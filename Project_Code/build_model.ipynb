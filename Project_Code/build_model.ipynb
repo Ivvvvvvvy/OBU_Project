{
 "cells": [
  {
   "cell_type": "code",
   "execution_count": 1,
   "id": "6ac760a3",
   "metadata": {
    "ExecuteTime": {
     "end_time": "2023-05-04T21:10:22.794948Z",
     "start_time": "2023-05-04T21:09:50.805884Z"
    }
   },
   "outputs": [
    {
     "name": "stdout",
     "output_type": "stream",
     "text": [
      "*** Introductory Examples for the NLTK Book ***\n",
      "Loading text1, ..., text9 and sent1, ..., sent9\n",
      "Type the name of the text or sentence to view it.\n",
      "Type: 'texts()' or 'sents()' to list the materials.\n",
      "text1: Moby Dick by Herman Melville 1851\n",
      "text2: Sense and Sensibility by Jane Austen 1811\n",
      "text3: The Book of Genesis\n",
      "text4: Inaugural Address Corpus\n",
      "text5: Chat Corpus\n",
      "text6: Monty Python and the Holy Grail\n",
      "text7: Wall Street Journal\n",
      "text8: Personals Corpus\n",
      "text9: The Man Who Was Thursday by G . K . Chesterton 1908\n"
     ]
    }
   ],
   "source": [
    "import matplotlib.pyplot as plt\n",
    "import seaborn as sns\n",
    "import numpy as np\n",
    "import pandas as pd\n",
    "from collections import Counter\n",
    "#stopwords = set(STOPWORDS)\n",
    "import itertools\n",
    "import nltk\n",
    "# nltk.download()\n",
    "# nltk.download('stopwords')\n",
    "# nltk.download(\"punkt\")\n",
    "# nltk.download('wordnet')\n",
    "from nltk.stem.wordnet import WordNetLemmatizer\n",
    "from nltk.stem.porter import PorterStemmer\n",
    "from nltk.corpus import stopwords \n",
    "from nltk.tokenize import word_tokenize\n",
    "from nltk import ne_chunk\n",
    "from nltk.util import ngrams\n",
    "from nltk.book import *\n",
    "\n",
    "import plotly\n",
    "import plotly.express as px\n",
    "\n",
    "import re\n",
    "import string\n",
    "\n",
    "\n",
    "\n",
    "#read the files\n",
    "train = pd.read_csv(\"/Users/legfot/Documents/content/data/train.csv\", encoding = 'ISO-8859-1')\n",
    "test = pd.read_csv(\"/Users/legfot/Documents/content/data/test.csv\", encoding = 'ISO-8859-1')\n",
    "test_y = pd.read_csv(\"/Users/legfot/Documents/content/data/test_labels.csv\", encoding = 'ISO-8859-1')\n",
    "\n",
    "\n",
    "stop = stopwords.words('english')\n",
    "\n",
    "train['preprocess'] = train.apply(lambda row: row['comment_text'].replace(\"\\n\",\" \"), axis=1) #removes new line character\n",
    "test['preprocess'] = test.apply(lambda row: row['comment_text'].replace(\"\\n\",\" \"), axis=1)\n",
    "\n",
    "#removes urls\n",
    "train['preprocess']=train.apply(lambda row: re.sub('http://\\S+|https://\\S+', 'urls',row['preprocess']).lower(), axis=1)\n",
    "test['preprocess']=test.apply(lambda row: re.sub('http://\\S+|https://\\S+', 'urls',row['preprocess']).lower(), axis=1)\n",
    "\n",
    "#remove all non-alphanumeric values(Except single quotes)\n",
    "train['preprocess']=train.apply(lambda row: re.sub('[^A-Za-z\\' ]+', '',row['preprocess']).lower(), axis=1)\n",
    "test['preprocess']=test.apply(lambda row: re.sub('[^A-Za-z\\' ]+', '',row['preprocess']).lower(), axis=1)\n",
    "\n",
    "#remove stopwords as they occupy major chunk of the vocabulary\n",
    "train['preprocess'] = train['preprocess'].apply(lambda x: ' '.join([word for word in x.split() if word not in (stop)]))\n",
    "test['preprocess'] = test['preprocess'].apply(lambda x: ' '.join([word for word in x.split() if word not in (stop)]))\n",
    "\n",
    "#removes all additional spaces\n",
    "train['preprocess']=train.apply(lambda row: re.sub('  +', ' ',row['preprocess']).strip(), axis=1)\n",
    "test['preprocess']=test.apply(lambda row: re.sub('  +', ' ',row['preprocess']).strip(), axis=1)\n",
    "\n",
    "train[\"preprocess1\"] = train.apply(lambda x: x[\"comment_text\"] if len(x[\"preprocess\"])==0 else x['preprocess'], axis=1)\n",
    "test[\"preprocess1\"] = test.apply(lambda x: x[\"comment_text\"] if len(x[\"preprocess\"])==0 else x['preprocess'], axis=1)\n",
    "traindf=train[['preprocess1','toxic', 'severe_toxic', 'obscene', 'threat','insult', 'identity_hate']]\n",
    "testdf=test[['id','preprocess1']]\n",
    "\n"
   ]
  },
  {
   "cell_type": "markdown",
   "id": "b0f975d2",
   "metadata": {},
   "source": [
    "# Prepare the data"
   ]
  },
  {
   "cell_type": "code",
   "execution_count": 2,
   "id": "f16f5c37",
   "metadata": {
    "ExecuteTime": {
     "end_time": "2023-05-04T21:11:25.818409Z",
     "start_time": "2023-05-04T21:11:15.724264Z"
    }
   },
   "outputs": [],
   "source": [
    "from keras.preprocessing.text import Tokenizer\n",
    "from tensorflow.keras.preprocessing.sequence import pad_sequences\n",
    "from tensorflow.keras.utils import to_categorical\n",
    "from tensorflow.keras.models import Sequential\n",
    "from tensorflow.keras.layers import Dense, LSTM, Embedding, Input\n",
    "from tensorflow.keras.callbacks import ModelCheckpoint\n",
    "# from tensorflow.keras.callbacks import EarlyStopping\n",
    "from tensorflow.keras.callbacks import TensorBoard\n",
    "\n",
    "traind=traindf[\"preprocess1\"]\n",
    "train_label=traindf[['toxic', 'severe_toxic', 'obscene', 'threat','insult', 'identity_hate']]\n",
    "testd=testdf[\"preprocess1\"]\n",
    "\n",
    "#prepare tokenizer\n",
    "tokenizer = Tokenizer(num_words = 30000) #only 30000 words i am considering here\n",
    "tokenizer.fit_on_texts(traind)\n",
    "\n",
    "#convert each text into array of integers with help of tokenizer.\n",
    "train_final = tokenizer.texts_to_sequences(traind)\n",
    "test_final = tokenizer.texts_to_sequences(testd)\n",
    "#Now lets pad the sentences. \n",
    "#From the above histogram it is evident that most of sentences falling in range 1-200 lengths. \n",
    "#max length=200 is kept \n",
    "#We will trim any sentence above that length and we will pad zeros for all the sentence below 200\n",
    "traind=pad_sequences(train_final, maxlen=200)\n",
    "testd=pad_sequences(test_final, maxlen=200)"
   ]
  },
  {
   "cell_type": "markdown",
   "id": "25efa9bd",
   "metadata": {},
   "source": [
    "# LSTM Model"
   ]
  },
  {
   "cell_type": "code",
   "execution_count": 3,
   "id": "fcff861b",
   "metadata": {
    "ExecuteTime": {
     "end_time": "2023-05-04T21:21:58.717222Z",
     "start_time": "2023-05-04T21:12:12.553534Z"
    }
   },
   "outputs": [
    {
     "name": "stdout",
     "output_type": "stream",
     "text": [
      "Metal device set to: Apple M1 Pro\n"
     ]
    },
    {
     "name": "stderr",
     "output_type": "stream",
     "text": [
      "2023-05-05 05:12:12.585135: I tensorflow/core/common_runtime/pluggable_device/pluggable_device_factory.cc:305] Could not identify NUMA node of platform GPU ID 0, defaulting to 0. Your kernel may not have been built with NUMA support.\n",
      "2023-05-05 05:12:12.585902: I tensorflow/core/common_runtime/pluggable_device/pluggable_device_factory.cc:271] Created TensorFlow device (/job:localhost/replica:0/task:0/device:GPU:0 with 0 MB memory) -> physical PluggableDevice (device: 0, name: METAL, pci bus id: <undefined>)\n"
     ]
    },
    {
     "name": "stdout",
     "output_type": "stream",
     "text": [
      "Model: \"sequential\"\n",
      "_________________________________________________________________\n",
      " Layer (type)                Output Shape              Param #   \n",
      "=================================================================\n",
      " embedding (Embedding)       (None, 200, 13)           390000    \n",
      "                                                                 \n",
      " lstm (LSTM)                 (None, 30)                5280      \n",
      "                                                                 \n",
      " dropout (Dropout)           (None, 30)                0         \n",
      "                                                                 \n",
      " dense (Dense)               (None, 6)                 186       \n",
      "                                                                 \n",
      "=================================================================\n",
      "Total params: 395,466\n",
      "Trainable params: 395,466\n",
      "Non-trainable params: 0\n",
      "_________________________________________________________________\n",
      "None\n",
      "WARNING:tensorflow:`write_grads` will be ignored in TensorFlow 2.0 for the `TensorBoard` Callback.\n",
      "Epoch 1/2\n"
     ]
    },
    {
     "name": "stderr",
     "output_type": "stream",
     "text": [
      "2023-05-05 05:12:12.919217: W tensorflow/core/platform/profile_utils/cpu_utils.cc:128] Failed to get CPU frequency: 0 Hz\n",
      "2023-05-05 05:12:13.831083: I tensorflow/core/grappler/optimizers/custom_graph_optimizer_registry.cc:112] Plugin optimizer for device_type GPU is enabled.\n",
      "2023-05-05 05:12:14.047001: I tensorflow/core/grappler/optimizers/custom_graph_optimizer_registry.cc:112] Plugin optimizer for device_type GPU is enabled.\n",
      "2023-05-05 05:12:14.481936: I tensorflow/core/grappler/optimizers/custom_graph_optimizer_registry.cc:112] Plugin optimizer for device_type GPU is enabled.\n"
     ]
    },
    {
     "name": "stdout",
     "output_type": "stream",
     "text": [
      "3990/3990 [==============================] - ETA: 0s - loss: 0.1433 - accuracy: 0.9116"
     ]
    },
    {
     "name": "stderr",
     "output_type": "stream",
     "text": [
      "2023-05-05 05:16:38.105600: I tensorflow/core/grappler/optimizers/custom_graph_optimizer_registry.cc:112] Plugin optimizer for device_type GPU is enabled.\n",
      "2023-05-05 05:16:38.170195: I tensorflow/core/grappler/optimizers/custom_graph_optimizer_registry.cc:112] Plugin optimizer for device_type GPU is enabled.\n"
     ]
    },
    {
     "name": "stdout",
     "output_type": "stream",
     "text": [
      "\n",
      "Epoch 00001: val_loss improved from inf to 0.13612, saving model to model_toxic/cp.ckpt\n",
      "3990/3990 [==============================] - 289s 72ms/step - loss: 0.1433 - accuracy: 0.9116 - val_loss: 0.1361 - val_accuracy: 0.9941\n",
      "Epoch 2/2\n",
      "3990/3990 [==============================] - ETA: 0s - loss: 0.1343 - accuracy: 0.9921\n",
      "Epoch 00002: val_loss improved from 0.13612 to 0.13128, saving model to model_toxic/cp.ckpt\n",
      "3990/3990 [==============================] - 296s 74ms/step - loss: 0.1343 - accuracy: 0.9921 - val_loss: 0.1313 - val_accuracy: 0.9941\n"
     ]
    }
   ],
   "source": [
    "import tensorflow as tf\n",
    "MAX_FEATURES = 30000\n",
    "MAX_SENTENCE_LENGTH = 200\n",
    "\n",
    "\n",
    "def LSTM_model(lstm_units, dropout_rate):\n",
    "    model = Sequential([\n",
    "        tf.keras.layers.InputLayer(input_shape=(MAX_SENTENCE_LENGTH,)),\n",
    "        tf.keras.layers.Embedding(input_dim=MAX_FEATURES, output_dim=int(MAX_FEATURES ** 0.25)),\n",
    "        tf.keras.layers.LSTM(units=lstm_units),\n",
    "        tf.keras.layers.Dropout(dropout_rate),\n",
    "        tf.keras.layers.Dense(6, activation=tf.nn.sigmoid)\n",
    "    ])\n",
    "    model.compile(\n",
    "        loss=tf.keras.losses.binary_crossentropy,\n",
    "        metrics=['accuracy']\n",
    "    )\n",
    "    return model\n",
    "\n",
    "# define some hyper parameters\n",
    "batch_size = 32\n",
    "epochs = 2\n",
    "lstm_units = 30 #Dimensions of the output layer\n",
    "dropout_rate = 0.5\n",
    "\n",
    "# define the model\n",
    "LSTM_model = LSTM_model(lstm_units, dropout_rate)\n",
    "print(LSTM_model.summary())\n",
    "\n",
    "# define some callbacks\n",
    "checkpoint_cb = ModelCheckpoint(filepath='model_toxic/cp.ckpt',\n",
    "                                save_weights_only=True,\n",
    "                                mode='min',\n",
    "                                verbose=1,\n",
    "                                save_best_only=True)\n",
    "tensorboard_cb = TensorBoard(log_dir='model_toxic',\n",
    "                             histogram_freq=1,\n",
    "                             write_grads=True)\n",
    "\n",
    "# start train and evaluate\n",
    "LSTM_model_history = LSTM_model.fit(\n",
    "                x=traind,\n",
    "                y=train_label,\n",
    "                batch_size=batch_size,\n",
    "                epochs=epochs,\n",
    "                validation_split=0.2,\n",
    "                callbacks=[checkpoint_cb, tensorboard_cb],\n",
    "            )\n",
    "\n",
    "loss = LSTM_model_history.history['loss']\n",
    "\n"
   ]
  },
  {
   "cell_type": "code",
   "execution_count": 4,
   "id": "85f30c01",
   "metadata": {
    "ExecuteTime": {
     "end_time": "2023-05-04T21:33:57.975574Z",
     "start_time": "2023-05-04T21:33:57.748304Z"
    }
   },
   "outputs": [
    {
     "data": {
      "image/png": "[encoded data removed]",
      "text/plain": [
       "<Figure size 640x480 with 1 Axes>"
      ]
     },
     "metadata": {},
     "output_type": "display_data"
    }
   ],
   "source": [
    "plt.figure()\n",
    "plt.plot(loss, marker='.', lw=2.0, c='blue', label='train')\n",
    "plt.legend()\n",
    "plt.xlabel('Epochs')\n",
    "plt.ylabel('Cross-Entropy Loss')\n",
    "plt.grid()\n",
    "plt.show()"
   ]
  },
  {
   "cell_type": "code",
   "execution_count": 5,
   "id": "34dde474",
   "metadata": {
    "ExecuteTime": {
     "end_time": "2023-05-04T21:34:03.141120Z",
     "start_time": "2023-05-04T21:34:03.025333Z"
    }
   },
   "outputs": [
    {
     "data": {
      "text/html": [
       "<div>\n",
       "<style scoped>\n",
       "    .dataframe tbody tr th:only-of-type {\n",
       "        vertical-align: middle;\n",
       "    }\n",
       "\n",
       "    .dataframe tbody tr th {\n",
       "        vertical-align: top;\n",
       "    }\n",
       "\n",
       "    .dataframe thead th {\n",
       "        text-align: right;\n",
       "    }\n",
       "</style>\n",
       "<table border=\"1\" class=\"dataframe\">\n",
       "  <thead>\n",
       "    <tr style=\"text-align: right;\">\n",
       "      <th></th>\n",
       "      <th>id</th>\n",
       "      <th>comment_text</th>\n",
       "      <th>toxicity</th>\n",
       "      <th>severe_toxic</th>\n",
       "      <th>obscene</th>\n",
       "      <th>threat</th>\n",
       "      <th>insult</th>\n",
       "      <th>identity_hate</th>\n",
       "      <th>preprocess</th>\n",
       "      <th>preprocess1</th>\n",
       "    </tr>\n",
       "  </thead>\n",
       "  <tbody>\n",
       "    <tr>\n",
       "      <th>0</th>\n",
       "      <td>0000997932d777bf</td>\n",
       "      <td>Explanation\\nWhy the edits made under my usern...</td>\n",
       "      <td>0</td>\n",
       "      <td>0</td>\n",
       "      <td>0</td>\n",
       "      <td>0</td>\n",
       "      <td>0</td>\n",
       "      <td>0</td>\n",
       "      <td>explanation edits made username hardcore metal...</td>\n",
       "      <td>explanation edits made username hardcore metal...</td>\n",
       "    </tr>\n",
       "    <tr>\n",
       "      <th>1</th>\n",
       "      <td>000103f0d9cfb60f</td>\n",
       "      <td>D'aww! He matches this background colour I'm s...</td>\n",
       "      <td>0</td>\n",
       "      <td>0</td>\n",
       "      <td>0</td>\n",
       "      <td>0</td>\n",
       "      <td>0</td>\n",
       "      <td>0</td>\n",
       "      <td>d'aww matches background colour i'm seemingly ...</td>\n",
       "      <td>d'aww matches background colour i'm seemingly ...</td>\n",
       "    </tr>\n",
       "    <tr>\n",
       "      <th>2</th>\n",
       "      <td>000113f07ec002fd</td>\n",
       "      <td>Hey man, I'm really not trying to edit war. It...</td>\n",
       "      <td>0</td>\n",
       "      <td>0</td>\n",
       "      <td>0</td>\n",
       "      <td>0</td>\n",
       "      <td>0</td>\n",
       "      <td>0</td>\n",
       "      <td>hey man i'm really trying edit war guy constan...</td>\n",
       "      <td>hey man i'm really trying edit war guy constan...</td>\n",
       "    </tr>\n",
       "    <tr>\n",
       "      <th>3</th>\n",
       "      <td>0001b41b1c6bb37e</td>\n",
       "      <td>\"\\nMore\\nI can't make any real suggestions on ...</td>\n",
       "      <td>0</td>\n",
       "      <td>0</td>\n",
       "      <td>0</td>\n",
       "      <td>0</td>\n",
       "      <td>0</td>\n",
       "      <td>0</td>\n",
       "      <td>can't make real suggestions improvement wonder...</td>\n",
       "      <td>can't make real suggestions improvement wonder...</td>\n",
       "    </tr>\n",
       "    <tr>\n",
       "      <th>4</th>\n",
       "      <td>0001d958c54c6e35</td>\n",
       "      <td>You, sir, are my hero. Any chance you remember...</td>\n",
       "      <td>0</td>\n",
       "      <td>0</td>\n",
       "      <td>0</td>\n",
       "      <td>0</td>\n",
       "      <td>0</td>\n",
       "      <td>0</td>\n",
       "      <td>sir hero chance remember page that's</td>\n",
       "      <td>sir hero chance remember page that's</td>\n",
       "    </tr>\n",
       "    <tr>\n",
       "      <th>...</th>\n",
       "      <td>...</td>\n",
       "      <td>...</td>\n",
       "      <td>...</td>\n",
       "      <td>...</td>\n",
       "      <td>...</td>\n",
       "      <td>...</td>\n",
       "      <td>...</td>\n",
       "      <td>...</td>\n",
       "      <td>...</td>\n",
       "      <td>...</td>\n",
       "    </tr>\n",
       "    <tr>\n",
       "      <th>159566</th>\n",
       "      <td>ffe987279560d7ff</td>\n",
       "      <td>\":::::And for the second time of asking, when ...</td>\n",
       "      <td>0</td>\n",
       "      <td>0</td>\n",
       "      <td>0</td>\n",
       "      <td>0</td>\n",
       "      <td>0</td>\n",
       "      <td>0</td>\n",
       "      <td>second time asking view completely contradicts...</td>\n",
       "      <td>second time asking view completely contradicts...</td>\n",
       "    </tr>\n",
       "    <tr>\n",
       "      <th>159567</th>\n",
       "      <td>ffea4adeee384e90</td>\n",
       "      <td>You should be ashamed of yourself \\n\\nThat is ...</td>\n",
       "      <td>0</td>\n",
       "      <td>0</td>\n",
       "      <td>0</td>\n",
       "      <td>0</td>\n",
       "      <td>0</td>\n",
       "      <td>0</td>\n",
       "      <td>ashamed horrible thing put talk page</td>\n",
       "      <td>ashamed horrible thing put talk page</td>\n",
       "    </tr>\n",
       "    <tr>\n",
       "      <th>159568</th>\n",
       "      <td>ffee36eab5c267c9</td>\n",
       "      <td>Spitzer \\n\\nUmm, theres no actual article for ...</td>\n",
       "      <td>0</td>\n",
       "      <td>0</td>\n",
       "      <td>0</td>\n",
       "      <td>0</td>\n",
       "      <td>0</td>\n",
       "      <td>0</td>\n",
       "      <td>spitzer umm theres actual article prostitution...</td>\n",
       "      <td>spitzer umm theres actual article prostitution...</td>\n",
       "    </tr>\n",
       "    <tr>\n",
       "      <th>159569</th>\n",
       "      <td>fff125370e4aaaf3</td>\n",
       "      <td>And it looks like it was actually you who put ...</td>\n",
       "      <td>0</td>\n",
       "      <td>0</td>\n",
       "      <td>0</td>\n",
       "      <td>0</td>\n",
       "      <td>0</td>\n",
       "      <td>0</td>\n",
       "      <td>looks like actually put speedy first version d...</td>\n",
       "      <td>looks like actually put speedy first version d...</td>\n",
       "    </tr>\n",
       "    <tr>\n",
       "      <th>159570</th>\n",
       "      <td>fff46fc426af1f9a</td>\n",
       "      <td>\"\\nAnd ... I really don't think you understand...</td>\n",
       "      <td>0</td>\n",
       "      <td>0</td>\n",
       "      <td>0</td>\n",
       "      <td>0</td>\n",
       "      <td>0</td>\n",
       "      <td>0</td>\n",
       "      <td>really think understand came idea bad right aw...</td>\n",
       "      <td>really think understand came idea bad right aw...</td>\n",
       "    </tr>\n",
       "  </tbody>\n",
       "</table>\n",
       "<p>159571 rows × 10 columns</p>\n",
       "</div>"
      ],
      "text/plain": [
       "                      id                                       comment_text  \\\n",
       "0       0000997932d777bf  Explanation\\nWhy the edits made under my usern...   \n",
       "1       000103f0d9cfb60f  D'aww! He matches this background colour I'm s...   \n",
       "2       000113f07ec002fd  Hey man, I'm really not trying to edit war. It...   \n",
       "3       0001b41b1c6bb37e  \"\\nMore\\nI can't make any real suggestions on ...   \n",
       "4       0001d958c54c6e35  You, sir, are my hero. Any chance you remember...   \n",
       "...                  ...                                                ...   \n",
       "159566  ffe987279560d7ff  \":::::And for the second time of asking, when ...   \n",
       "159567  ffea4adeee384e90  You should be ashamed of yourself \\n\\nThat is ...   \n",
       "159568  ffee36eab5c267c9  Spitzer \\n\\nUmm, theres no actual article for ...   \n",
       "159569  fff125370e4aaaf3  And it looks like it was actually you who put ...   \n",
       "159570  fff46fc426af1f9a  \"\\nAnd ... I really don't think you understand...   \n",
       "\n",
       "        toxicity  severe_toxic  obscene  threat  insult  identity_hate  \\\n",
       "0              0             0        0       0       0              0   \n",
       "1              0             0        0       0       0              0   \n",
       "2              0             0        0       0       0              0   \n",
       "3              0             0        0       0       0              0   \n",
       "4              0             0        0       0       0              0   \n",
       "...          ...           ...      ...     ...     ...            ...   \n",
       "159566         0             0        0       0       0              0   \n",
       "159567         0             0        0       0       0              0   \n",
       "159568         0             0        0       0       0              0   \n",
       "159569         0             0        0       0       0              0   \n",
       "159570         0             0        0       0       0              0   \n",
       "\n",
       "                                               preprocess  \\\n",
       "0       explanation edits made username hardcore metal...   \n",
       "1       d'aww matches background colour i'm seemingly ...   \n",
       "2       hey man i'm really trying edit war guy constan...   \n",
       "3       can't make real suggestions improvement wonder...   \n",
       "4                    sir hero chance remember page that's   \n",
       "...                                                   ...   \n",
       "159566  second time asking view completely contradicts...   \n",
       "159567               ashamed horrible thing put talk page   \n",
       "159568  spitzer umm theres actual article prostitution...   \n",
       "159569  looks like actually put speedy first version d...   \n",
       "159570  really think understand came idea bad right aw...   \n",
       "\n",
       "                                              preprocess1  \n",
       "0       explanation edits made username hardcore metal...  \n",
       "1       d'aww matches background colour i'm seemingly ...  \n",
       "2       hey man i'm really trying edit war guy constan...  \n",
       "3       can't make real suggestions improvement wonder...  \n",
       "4                    sir hero chance remember page that's  \n",
       "...                                                   ...  \n",
       "159566  second time asking view completely contradicts...  \n",
       "159567               ashamed horrible thing put talk page  \n",
       "159568  spitzer umm theres actual article prostitution...  \n",
       "159569  looks like actually put speedy first version d...  \n",
       "159570  really think understand came idea bad right aw...  \n",
       "\n",
       "[159571 rows x 10 columns]"
      ]
     },
     "execution_count": 5,
     "metadata": {},
     "output_type": "execute_result"
    }
   ],
   "source": [
    "train.rename(columns={'toxic':'toxicity'})\n"
   ]
  },
  {
   "cell_type": "code",
   "execution_count": 6,
   "id": "5ab3a487",
   "metadata": {
    "ExecuteTime": {
     "end_time": "2023-05-04T21:34:07.110067Z",
     "start_time": "2023-05-04T21:34:07.013149Z"
    }
   },
   "outputs": [
    {
     "data": {
      "image/png": "[encoded data removed]",
      "text/plain": [
       "<Figure size 640x480 with 1 Axes>"
      ]
     },
     "metadata": {},
     "output_type": "display_data"
    }
   ],
   "source": [
    "plt.figure()\n",
    "plt.plot(LSTM_model_history.history['accuracy'], marker='.', c='red', label='val')\n",
    "plt.legend()\n",
    "plt.xlabel('epochs')\n",
    "plt.ylabel('accuracy')\n",
    "plt.grid()\n",
    "plt.show()"
   ]
  },
  {
   "cell_type": "code",
   "execution_count": 3,
   "id": "6516fee5",
   "metadata": {
    "ExecuteTime": {
     "end_time": "2023-04-22T17:39:40.057184Z",
     "start_time": "2023-04-22T17:37:52.118657Z"
    },
    "scrolled": true
   },
   "outputs": [
    {
     "name": "stderr",
     "output_type": "stream",
     "text": [
      "2023-04-23 01:37:52.361931: I tensorflow/core/grappler/optimizers/custom_graph_optimizer_registry.cc:112] Plugin optimizer for device_type GPU is enabled.\n",
      "2023-04-23 01:37:52.432138: I tensorflow/core/grappler/optimizers/custom_graph_optimizer_registry.cc:112] Plugin optimizer for device_type GPU is enabled.\n"
     ]
    }
   ],
   "source": [
    "LSTM_result = testdf[['id']]\n",
    "LSTM_preds = LSTM_model.predict(testd)\n",
    "LSTM_result[[\"toxic\",\"severe_toxic\",\"obscene\",\"threat\",\"insult\",\"identity_hate\"]] = LSTM_preds\n",
    "# LSTM_result.to_csv(\"result_LSTM.csv\", index = False)"
   ]
  },
  {
   "cell_type": "markdown",
   "id": "13c7ce11",
   "metadata": {},
   "source": [
    "## Evaluate LSTM Model"
   ]
  },
  {
   "cell_type": "code",
   "execution_count": 91,
   "id": "daf06821",
   "metadata": {
    "ExecuteTime": {
     "end_time": "2023-04-23T13:16:12.300207Z",
     "start_time": "2023-04-23T13:16:11.962736Z"
    }
   },
   "outputs": [],
   "source": [
    "#LSTM_result = pd.read_csv('/Users/legfot/Documents/NLP实训项目/恶意评论/result_LSTM.csv', encoding = 'ISO-8859-1')\n",
    "#change posibility into labels\n",
    "col = [\"toxic\",\"severe_toxic\",\"obscene\",\"threat\",\"insult\",\"identity_hate\"]\n",
    "thresh = 0.5\n",
    "\n",
    "for i in range(len(col)):\n",
    "    LSTM_result[col[i]] = LSTM_result[col[i]].apply(lambda x:1 if x > thresh  else 0)\n",
    "\n",
    "#pre_L\n",
    "nid_LSTM_result = LSTM_result.drop('id',axis=1)\n",
    "pre_L = nid_LSTM_result.values\n",
    "pre_L = pre_L[test_y['toxic'] != -1]\n",
    "sc_LSTM_re = nid_LSTM_result[test_y['toxic'] != -1]\n",
    "\n",
    "#actual label for scoring\n",
    "test_y_score = test_y[test_y['toxic'] != -1]\n",
    "test_y_score = test_y_score.drop('id',axis=1)\n",
    "test_label_L = test_y_score.values"
   ]
  },
  {
   "cell_type": "code",
   "execution_count": 57,
   "id": "676ee952",
   "metadata": {
    "ExecuteTime": {
     "end_time": "2023-04-23T09:45:24.300795Z",
     "start_time": "2023-04-23T09:45:24.161659Z"
    },
    "scrolled": false
   },
   "outputs": [
    {
     "name": "stdout",
     "output_type": "stream",
     "text": [
      "[[[57474   414]\n",
      "  [ 4759  1331]]\n",
      "\n",
      " [[63486   125]\n",
      "  [  310    57]]\n",
      "\n",
      " [[59924   363]\n",
      "  [ 2839   852]]\n",
      "\n",
      " [[63767     0]\n",
      "  [  211     0]]\n",
      "\n",
      " [[60195   356]\n",
      "  [ 2710   717]]\n",
      "\n",
      " [[63266     0]\n",
      "  [  712     0]]]\n"
     ]
    },
    {
     "data": {
      "image/png": "[encoded data removed]",
      "text/plain": [
       "<Figure size 800x600 with 2 Axes>"
      ]
     },
     "metadata": {},
     "output_type": "display_data"
    }
   ],
   "source": [
    "import numpy as np\n",
    "import matplotlib.pyplot as plt\n",
    "import seaborn as sns\n",
    "import pandas as pd\n",
    "from sklearn.metrics import confusion_matrix,multilabel_confusion_matrix\n",
    "\n",
    "\n",
    "# 生成随机的混淆矩阵\n",
    "mcm_LSTM = multilabel_confusion_matrix(test_label_L, pre_L) # target在前，pred在后\n",
    "print(mcm_LSTM)\n",
    "\n",
    "# 将3维数组展开为2维数组\n",
    "flat_matrix = np.reshape(mcm_LSTM, (mcm_LSTM.shape[0], -1))\n",
    "conf_matrix_pct = np.around(flat_matrix / np.sum(flat_matrix, axis=1, keepdims=True) , decimals=2)\n",
    "\n",
    "\n",
    "# 绘制热力图\n",
    "fig, ax = plt.subplots(figsize=(8, 6))\n",
    "sns.heatmap(conf_matrix_pct, annot=True, fmt = '.2%',cmap='Blues')\n",
    "\n",
    "\n",
    "# 设置坐标轴标签\n",
    "# ax.set_xticks([0.5, 1.5, 2, 2,5])\n",
    "# 设置行标签\n",
    "ax.set_yticklabels(['toxicity', 'severe_toxic', 'obsence', 'threat','insult', 'identity_hate'], rotation=0)\n",
    "\n",
    "# 设置列标签\n",
    "ax.set_xticklabels(['True Positive', 'False Positive', 'False Negative', 'True Negative'], fontsize=10)\n",
    "# ax.set_xticklabels(['True Negative', 'True Positive','False Negative','False Positive'])\n",
    "# ax.set_yticklabels(['toxicity', 'severe_toxic', 'threat', 'obsence', 'insult', 'identity_hate'])\n",
    "\n",
    "# 显示图形\n",
    "plt.show()\n"
   ]
  },
  {
   "cell_type": "markdown",
   "id": "e68bbc52",
   "metadata": {},
   "source": [
    "## classification report of LSTM"
   ]
  },
  {
   "cell_type": "code",
   "execution_count": 48,
   "id": "a4161685",
   "metadata": {
    "ExecuteTime": {
     "end_time": "2023-04-23T07:18:27.302772Z",
     "start_time": "2023-04-23T07:18:27.030704Z"
    }
   },
   "outputs": [
    {
     "name": "stdout",
     "output_type": "stream",
     "text": [
      "Classification Report for toxicity:\n",
      "              precision    recall  f1-score   support\n",
      "\n",
      "           0       0.92      0.99      0.96     57888\n",
      "           1       0.76      0.22      0.34      6090\n",
      "\n",
      "    accuracy                           0.92     63978\n",
      "   macro avg       0.84      0.61      0.65     63978\n",
      "weighted avg       0.91      0.92      0.90     63978\n",
      "\n",
      "\n",
      "Classification Report for severe_toxic:\n",
      "              precision    recall  f1-score   support\n",
      "\n",
      "           0       1.00      1.00      1.00     63611\n",
      "           1       0.31      0.16      0.21       367\n",
      "\n",
      "    accuracy                           0.99     63978\n",
      "   macro avg       0.65      0.58      0.60     63978\n",
      "weighted avg       0.99      0.99      0.99     63978\n",
      "\n",
      "\n",
      "Classification Report for obsence:\n",
      "              precision    recall  f1-score   support\n",
      "\n",
      "           0       0.95      0.99      0.97     60287\n",
      "           1       0.70      0.23      0.35      3691\n",
      "\n",
      "    accuracy                           0.95     63978\n",
      "   macro avg       0.83      0.61      0.66     63978\n",
      "weighted avg       0.94      0.95      0.94     63978\n",
      "\n",
      "\n",
      "Classification Report for threat:\n",
      "              precision    recall  f1-score   support\n",
      "\n",
      "           0       1.00      1.00      1.00     63767\n",
      "           1       0.00      0.00      0.00       211\n",
      "\n",
      "    accuracy                           1.00     63978\n",
      "   macro avg       0.50      0.50      0.50     63978\n",
      "weighted avg       0.99      1.00      1.00     63978\n",
      "\n",
      "\n",
      "Classification Report for insult:\n",
      "              precision    recall  f1-score   support\n",
      "\n",
      "           0       0.96      0.99      0.98     60551\n",
      "           1       0.67      0.21      0.32      3427\n",
      "\n",
      "    accuracy                           0.95     63978\n",
      "   macro avg       0.81      0.60      0.65     63978\n",
      "weighted avg       0.94      0.95      0.94     63978\n",
      "\n",
      "\n",
      "Classification Report for identity_hate:\n",
      "              precision    recall  f1-score   support\n",
      "\n",
      "           0       0.99      1.00      0.99     63266\n",
      "           1       0.00      0.00      0.00       712\n",
      "\n",
      "    accuracy                           0.99     63978\n",
      "   macro avg       0.49      0.50      0.50     63978\n",
      "weighted avg       0.98      0.99      0.98     63978\n",
      "\n",
      "\n"
     ]
    },
    {
     "name": "stderr",
     "output_type": "stream",
     "text": [
      "/Users/legfot/opt/anaconda3/envs/tf27/lib/python3.8/site-packages/sklearn/metrics/_classification.py:1344: UndefinedMetricWarning: Precision and F-score are ill-defined and being set to 0.0 in labels with no predicted samples. Use `zero_division` parameter to control this behavior.\n",
      "  _warn_prf(average, modifier, msg_start, len(result))\n",
      "/Users/legfot/opt/anaconda3/envs/tf27/lib/python3.8/site-packages/sklearn/metrics/_classification.py:1344: UndefinedMetricWarning: Precision and F-score are ill-defined and being set to 0.0 in labels with no predicted samples. Use `zero_division` parameter to control this behavior.\n",
      "  _warn_prf(average, modifier, msg_start, len(result))\n",
      "/Users/legfot/opt/anaconda3/envs/tf27/lib/python3.8/site-packages/sklearn/metrics/_classification.py:1344: UndefinedMetricWarning: Precision and F-score are ill-defined and being set to 0.0 in labels with no predicted samples. Use `zero_division` parameter to control this behavior.\n",
      "  _warn_prf(average, modifier, msg_start, len(result))\n",
      "/Users/legfot/opt/anaconda3/envs/tf27/lib/python3.8/site-packages/sklearn/metrics/_classification.py:1344: UndefinedMetricWarning: Precision and F-score are ill-defined and being set to 0.0 in labels with no predicted samples. Use `zero_division` parameter to control this behavior.\n",
      "  _warn_prf(average, modifier, msg_start, len(result))\n",
      "/Users/legfot/opt/anaconda3/envs/tf27/lib/python3.8/site-packages/sklearn/metrics/_classification.py:1344: UndefinedMetricWarning: Precision and F-score are ill-defined and being set to 0.0 in labels with no predicted samples. Use `zero_division` parameter to control this behavior.\n",
      "  _warn_prf(average, modifier, msg_start, len(result))\n",
      "/Users/legfot/opt/anaconda3/envs/tf27/lib/python3.8/site-packages/sklearn/metrics/_classification.py:1344: UndefinedMetricWarning: Precision and F-score are ill-defined and being set to 0.0 in labels with no predicted samples. Use `zero_division` parameter to control this behavior.\n",
      "  _warn_prf(average, modifier, msg_start, len(result))\n"
     ]
    }
   ],
   "source": [
    "from sklearn.metrics import classification_report\n",
    "\n",
    "class_names = ['toxicity', 'severe_toxic', 'obsence', 'threat','insult', 'identity_hate']\n",
    "\n",
    "\n",
    "# 按照类别生成分类报告\n",
    "for i in range(len(class_names)):\n",
    "    target_names = ['non-' + class_names[i], class_names[i]]\n",
    "    report = classification_report(test_label_L[:,i], pre_L[:,i])\n",
    "    print(f'Classification Report for {class_names[i]}:\\n{report}\\n')\n",
    "\n"
   ]
  },
  {
   "cell_type": "markdown",
   "id": "d3426b0d",
   "metadata": {},
   "source": [
    "## Error Analysis "
   ]
  },
  {
   "cell_type": "code",
   "execution_count": 127,
   "id": "062dd50b",
   "metadata": {
    "ExecuteTime": {
     "end_time": "2023-04-24T09:02:11.126843Z",
     "start_time": "2023-04-24T09:02:11.083493Z"
    },
    "scrolled": true
   },
   "outputs": [
    {
     "name": "stdout",
     "output_type": "stream",
     "text": [
      "                    id  toxic  severe_toxic  obscene  threat  insult  \\\n",
      "1407  025d45d14a2e030a      1             0        1       0       1   \n",
      "\n",
      "      identity_hate  \n",
      "1407              0  \n",
      "                    id  \\\n",
      "1407  025d45d14a2e030a   \n",
      "\n",
      "                                                                                  comment_text  \\\n",
      "1407  FUCK YOU YOU LIKE ANGELIQUE CARRINGTON AND TAMARA HARRINGTON??????FUCK YOU ASSHOLE!!!!!!   \n",
      "\n",
      "                                                        preprocess  \\\n",
      "1407  fuck like angelique carrington tamara harringtonfuck asshole   \n",
      "\n",
      "                                                       preprocess1  \n",
      "1407  fuck like angelique carrington tamara harringtonfuck asshole  \n"
     ]
    }
   ],
   "source": [
    "# pd.set_option('display.max_colwidth', 1000)\n",
    "print(GRU_result[GRU_result['id'] == '025d45d14a2e030a'])\n",
    "\n",
    "print(test[test['id'] == '025d45d14a2e030a'])"
   ]
  },
  {
   "cell_type": "code",
   "execution_count": 132,
   "id": "21920777",
   "metadata": {
    "ExecuteTime": {
     "end_time": "2023-04-24T09:47:31.306795Z",
     "start_time": "2023-04-24T09:47:31.289005Z"
    },
    "scrolled": true
   },
   "outputs": [
    {
     "data": {
      "text/html": [
       "<div>\n",
       "<style scoped>\n",
       "    .dataframe tbody tr th:only-of-type {\n",
       "        vertical-align: middle;\n",
       "    }\n",
       "\n",
       "    .dataframe tbody tr th {\n",
       "        vertical-align: top;\n",
       "    }\n",
       "\n",
       "    .dataframe thead th {\n",
       "        text-align: right;\n",
       "    }\n",
       "</style>\n",
       "<table border=\"1\" class=\"dataframe\">\n",
       "  <thead>\n",
       "    <tr style=\"text-align: right;\">\n",
       "      <th></th>\n",
       "      <th>id</th>\n",
       "      <th>toxic</th>\n",
       "      <th>severe_toxic</th>\n",
       "      <th>obscene</th>\n",
       "      <th>threat</th>\n",
       "      <th>insult</th>\n",
       "      <th>identity_hate</th>\n",
       "    </tr>\n",
       "  </thead>\n",
       "  <tbody>\n",
       "    <tr>\n",
       "      <th>48</th>\n",
       "      <td>0013fed3aeae76b7</td>\n",
       "      <td>1</td>\n",
       "      <td>0</td>\n",
       "      <td>1</td>\n",
       "      <td>0</td>\n",
       "      <td>1</td>\n",
       "      <td>1</td>\n",
       "    </tr>\n",
       "    <tr>\n",
       "      <th>349</th>\n",
       "      <td>00950f0fae33869f</td>\n",
       "      <td>1</td>\n",
       "      <td>0</td>\n",
       "      <td>1</td>\n",
       "      <td>0</td>\n",
       "      <td>1</td>\n",
       "      <td>1</td>\n",
       "    </tr>\n",
       "    <tr>\n",
       "      <th>395</th>\n",
       "      <td>00a7a3ddf7f5878b</td>\n",
       "      <td>1</td>\n",
       "      <td>0</td>\n",
       "      <td>1</td>\n",
       "      <td>0</td>\n",
       "      <td>1</td>\n",
       "      <td>1</td>\n",
       "    </tr>\n",
       "    <tr>\n",
       "      <th>475</th>\n",
       "      <td>00c8d5a33c6a7b2f</td>\n",
       "      <td>1</td>\n",
       "      <td>0</td>\n",
       "      <td>1</td>\n",
       "      <td>0</td>\n",
       "      <td>1</td>\n",
       "      <td>1</td>\n",
       "    </tr>\n",
       "    <tr>\n",
       "      <th>782</th>\n",
       "      <td>014a9dafac3a92a4</td>\n",
       "      <td>1</td>\n",
       "      <td>0</td>\n",
       "      <td>0</td>\n",
       "      <td>0</td>\n",
       "      <td>0</td>\n",
       "      <td>1</td>\n",
       "    </tr>\n",
       "    <tr>\n",
       "      <th>...</th>\n",
       "      <td>...</td>\n",
       "      <td>...</td>\n",
       "      <td>...</td>\n",
       "      <td>...</td>\n",
       "      <td>...</td>\n",
       "      <td>...</td>\n",
       "      <td>...</td>\n",
       "    </tr>\n",
       "    <tr>\n",
       "      <th>151745</th>\n",
       "      <td>fd8cd8f3bec6bfeb</td>\n",
       "      <td>1</td>\n",
       "      <td>0</td>\n",
       "      <td>1</td>\n",
       "      <td>0</td>\n",
       "      <td>1</td>\n",
       "      <td>1</td>\n",
       "    </tr>\n",
       "    <tr>\n",
       "      <th>151981</th>\n",
       "      <td>fdf9032ae1e3368d</td>\n",
       "      <td>1</td>\n",
       "      <td>0</td>\n",
       "      <td>1</td>\n",
       "      <td>0</td>\n",
       "      <td>1</td>\n",
       "      <td>1</td>\n",
       "    </tr>\n",
       "    <tr>\n",
       "      <th>152324</th>\n",
       "      <td>fe9315bad284186b</td>\n",
       "      <td>1</td>\n",
       "      <td>1</td>\n",
       "      <td>1</td>\n",
       "      <td>0</td>\n",
       "      <td>1</td>\n",
       "      <td>1</td>\n",
       "    </tr>\n",
       "    <tr>\n",
       "      <th>152327</th>\n",
       "      <td>fe93a5366ca20f0d</td>\n",
       "      <td>1</td>\n",
       "      <td>1</td>\n",
       "      <td>1</td>\n",
       "      <td>1</td>\n",
       "      <td>1</td>\n",
       "      <td>1</td>\n",
       "    </tr>\n",
       "    <tr>\n",
       "      <th>152539</th>\n",
       "      <td>feea499120d56850</td>\n",
       "      <td>1</td>\n",
       "      <td>0</td>\n",
       "      <td>1</td>\n",
       "      <td>0</td>\n",
       "      <td>1</td>\n",
       "      <td>1</td>\n",
       "    </tr>\n",
       "  </tbody>\n",
       "</table>\n",
       "<p>712 rows × 7 columns</p>\n",
       "</div>"
      ],
      "text/plain": [
       "                      id  toxic  severe_toxic  obscene  threat  insult  \\\n",
       "48      0013fed3aeae76b7      1             0        1       0       1   \n",
       "349     00950f0fae33869f      1             0        1       0       1   \n",
       "395     00a7a3ddf7f5878b      1             0        1       0       1   \n",
       "475     00c8d5a33c6a7b2f      1             0        1       0       1   \n",
       "782     014a9dafac3a92a4      1             0        0       0       0   \n",
       "...                  ...    ...           ...      ...     ...     ...   \n",
       "151745  fd8cd8f3bec6bfeb      1             0        1       0       1   \n",
       "151981  fdf9032ae1e3368d      1             0        1       0       1   \n",
       "152324  fe9315bad284186b      1             1        1       0       1   \n",
       "152327  fe93a5366ca20f0d      1             1        1       1       1   \n",
       "152539  feea499120d56850      1             0        1       0       1   \n",
       "\n",
       "        identity_hate  \n",
       "48                  1  \n",
       "349                 1  \n",
       "395                 1  \n",
       "475                 1  \n",
       "782                 1  \n",
       "...               ...  \n",
       "151745              1  \n",
       "151981              1  \n",
       "152324              1  \n",
       "152327              1  \n",
       "152539              1  \n",
       "\n",
       "[712 rows x 7 columns]"
      ]
     },
     "execution_count": 132,
     "metadata": {},
     "output_type": "execute_result"
    }
   ],
   "source": [
    "test_y[test_y['identity_hate'] ==1]"
   ]
  },
  {
   "cell_type": "markdown",
   "id": "ad9e7b2b",
   "metadata": {},
   "source": [
    "# GRU Model"
   ]
  },
  {
   "cell_type": "code",
   "execution_count": 36,
   "id": "046aa7d1",
   "metadata": {
    "ExecuteTime": {
     "end_time": "2023-04-22T20:31:55.952225Z",
     "start_time": "2023-04-22T20:22:50.246499Z"
    },
    "scrolled": true
   },
   "outputs": [
    {
     "name": "stdout",
     "output_type": "stream",
     "text": [
      "Model: \"sequential_1\"\n",
      "_________________________________________________________________\n",
      " Layer (type)                Output Shape              Param #   \n",
      "=================================================================\n",
      " embedding_1 (Embedding)     (None, 200, 13)           390000    \n",
      "                                                                 \n",
      " gru (GRU)                   (None, 50)                9750      \n",
      "                                                                 \n",
      " dropout_1 (Dropout)         (None, 50)                0         \n",
      "                                                                 \n",
      " dense_1 (Dense)             (None, 6)                 306       \n",
      "                                                                 \n",
      "=================================================================\n",
      "Total params: 400,056\n",
      "Trainable params: 400,056\n",
      "Non-trainable params: 0\n",
      "_________________________________________________________________\n",
      "None\n",
      "WARNING:tensorflow:`write_grads` will be ignored in TensorFlow 2.0 for the `TensorBoard` Callback.\n",
      "Epoch 1/2\n"
     ]
    },
    {
     "name": "stderr",
     "output_type": "stream",
     "text": [
      "2023-04-23 04:22:51.329288: I tensorflow/core/grappler/optimizers/custom_graph_optimizer_registry.cc:112] Plugin optimizer for device_type GPU is enabled.\n",
      "2023-04-23 04:22:51.605620: I tensorflow/core/grappler/optimizers/custom_graph_optimizer_registry.cc:112] Plugin optimizer for device_type GPU is enabled.\n",
      "2023-04-23 04:22:52.322017: I tensorflow/core/grappler/optimizers/custom_graph_optimizer_registry.cc:112] Plugin optimizer for device_type GPU is enabled.\n"
     ]
    },
    {
     "name": "stdout",
     "output_type": "stream",
     "text": [
      "3990/3990 [==============================] - ETA: 0s - loss: 0.1050 - accuracy: 0.9514"
     ]
    },
    {
     "name": "stderr",
     "output_type": "stream",
     "text": [
      "2023-04-23 04:27:03.347993: I tensorflow/core/grappler/optimizers/custom_graph_optimizer_registry.cc:112] Plugin optimizer for device_type GPU is enabled.\n",
      "2023-04-23 04:27:03.412808: I tensorflow/core/grappler/optimizers/custom_graph_optimizer_registry.cc:112] Plugin optimizer for device_type GPU is enabled.\n"
     ]
    },
    {
     "name": "stdout",
     "output_type": "stream",
     "text": [
      "\n",
      "Epoch 00001: val_loss improved from inf to 0.08045, saving model to model_toxic/cp.ckpt\n",
      "3990/3990 [==============================] - 278s 69ms/step - loss: 0.1050 - accuracy: 0.9514 - val_loss: 0.0805 - val_accuracy: 0.9749\n",
      "Epoch 2/2\n",
      "3990/3990 [==============================] - ETA: 0s - loss: 0.0824 - accuracy: 0.9574\n",
      "Epoch 00002: val_loss did not improve from 0.08045\n",
      "3990/3990 [==============================] - 267s 67ms/step - loss: 0.0824 - accuracy: 0.9574 - val_loss: 0.0807 - val_accuracy: 0.9732\n"
     ]
    }
   ],
   "source": [
    "import tensorflow as tf\n",
    "import tensorflow.keras as keras\n",
    "def GRU_model(lstm_units, dropout_rate):\n",
    "    GRU_model = Sequential([\n",
    "        keras.layers.InputLayer(input_shape=(MAX_SENTENCE_LENGTH,)),\n",
    "        keras.layers.Embedding(input_dim=MAX_FEATURES, output_dim=int(MAX_FEATURES ** 0.25)),\n",
    "        keras.layers.GRU(units=lstm_units),\n",
    "        keras.layers.Dropout(dropout_rate),\n",
    "        keras.layers.Dense(6, activation=tf.nn.sigmoid)\n",
    "    ])\n",
    "    GRU_model.compile(\n",
    "        loss=tf.keras.losses.binary_crossentropy,\n",
    "        metrics=['accuracy']\n",
    "    )\n",
    "    return GRU_model\n",
    "\n",
    "# define some hyper parameters\n",
    "batch_size = 32\n",
    "epochs = 2\n",
    "lstm_units = 50\n",
    "dropout_rate = 0.5\n",
    "\n",
    "# define the model\n",
    "GRU_model = GRU_model(lstm_units, dropout_rate)\n",
    "print(GRU_model.summary())\n",
    "\n",
    "# define some callbacks\n",
    "checkpoint_cb = ModelCheckpoint(filepath='model_toxic/cp.ckpt',\n",
    "                                save_weights_only=True,\n",
    "                                mode='min',\n",
    "                                verbose=1,\n",
    "                                save_best_only=True)\n",
    "tensorboard_cb = TensorBoard(log_dir='model_toxic',\n",
    "                             histogram_freq=1,\n",
    "                             write_grads=True)\n",
    "\n",
    "# start train and evaluate\n",
    "GRU_model_history = GRU_model.fit(\n",
    "                x=traind,\n",
    "                y=train_label,\n",
    "                batch_size=batch_size,\n",
    "                epochs=epochs,\n",
    "                validation_split=0.2,\n",
    "                callbacks=[checkpoint_cb, tensorboard_cb],\n",
    "            )\n"
   ]
  },
  {
   "cell_type": "code",
   "execution_count": null,
   "id": "f631653f",
   "metadata": {},
   "outputs": [],
   "source": [
    "plt.figure()\n",
    "plt.plot(loss, marker='.', lw=2.0, c='blue', label='train')\n",
    "plt.legend()\n",
    "plt.xlabel('Epochs')\n",
    "plt.ylabel('Cross-Entropy Loss')\n",
    "plt.grid()\n",
    "plt.show()"
   ]
  },
  {
   "cell_type": "code",
   "execution_count": null,
   "id": "96347af2",
   "metadata": {},
   "outputs": [],
   "source": [
    "plt.figure()\n",
    "plt.plot(LSTM_model_history.history['accuracy'], marker='.', c='red', label='val')\n",
    "plt.legend()\n",
    "plt.xlabel('epochs')\n",
    "plt.ylabel('accuracy')\n",
    "plt.grid()\n",
    "plt.show()"
   ]
  },
  {
   "cell_type": "code",
   "execution_count": 119,
   "id": "e8ea63bf",
   "metadata": {
    "ExecuteTime": {
     "end_time": "2023-04-24T08:48:15.827088Z",
     "start_time": "2023-04-24T08:46:28.481628Z"
    }
   },
   "outputs": [],
   "source": [
    "GRU_result = testdf[['id']]\n",
    "GRU_preds = GRU_model.predict(testd)\n",
    "GRU_result[[\"toxic\",\"severe_toxic\",\"obscene\",\"threat\",\"insult\",\"identity_hate\"]] = GRU_preds\n",
    "#GRU_result.to_csv(\"result_GRU.csv\", index = False)"
   ]
  },
  {
   "cell_type": "code",
   "execution_count": 120,
   "id": "0195d5e9",
   "metadata": {
    "ExecuteTime": {
     "end_time": "2023-04-24T08:48:22.737814Z",
     "start_time": "2023-04-24T08:48:22.532904Z"
    }
   },
   "outputs": [],
   "source": [
    "#change posibility into labels\n",
    "col = [\"toxic\",\"severe_toxic\",\"obscene\",\"threat\",\"insult\",\"identity_hate\"]\n",
    "thresh = 0.5\n",
    "\n",
    "for i in range(len(col)):\n",
    "    GRU_result[col[i]] = GRU_result[col[i]].apply(lambda x:1 if x > thresh  else 0)\n",
    "\n",
    "#pre_GRU\n",
    "nid_GRU_result = GRU_result.drop('id',axis=1)\n",
    "pre_GRU = nid_GRU_result.values\n",
    "pre_GRU = pre_GRU[test_y['toxic'] != -1]\n",
    "sc_GRU_re = nid_GRU_result[test_y['toxic'] != -1]\n",
    "\n",
    "#actual label for scoring\n",
    "test_y_score = test_y[test_y['toxic'] != -1]\n",
    "test_y_score = test_y_score.drop('id',axis=1)\n",
    "test_label_L = test_y_score.values"
   ]
  },
  {
   "cell_type": "markdown",
   "id": "d2cf1b05",
   "metadata": {},
   "source": [
    "## Evaluate the GRU Model "
   ]
  },
  {
   "cell_type": "code",
   "execution_count": 121,
   "id": "9682d36e",
   "metadata": {
    "ExecuteTime": {
     "end_time": "2023-04-24T08:48:30.228244Z",
     "start_time": "2023-04-24T08:48:30.049097Z"
    }
   },
   "outputs": [
    {
     "name": "stdout",
     "output_type": "stream",
     "text": [
      "[[[57474   414]\n",
      "  [ 4759  1331]]\n",
      "\n",
      " [[63486   125]\n",
      "  [  310    57]]\n",
      "\n",
      " [[59924   363]\n",
      "  [ 2839   852]]\n",
      "\n",
      " [[63767     0]\n",
      "  [  211     0]]\n",
      "\n",
      " [[60195   356]\n",
      "  [ 2710   717]]\n",
      "\n",
      " [[63266     0]\n",
      "  [  712     0]]]\n"
     ]
    },
    {
     "data": {
      "image/png": "[encoded data removed]",
      "text/plain": [
       "<Figure size 800x600 with 2 Axes>"
      ]
     },
     "metadata": {},
     "output_type": "display_data"
    }
   ],
   "source": [
    "import numpy as np\n",
    "import matplotlib.pyplot as plt\n",
    "import seaborn as sns\n",
    "import pandas as pd\n",
    "from sklearn.metrics import confusion_matrix,multilabel_confusion_matrix\n",
    "\n",
    "\n",
    "# 生成随机的混淆矩阵\n",
    "mcm_GRU = multilabel_confusion_matrix(test_label_L, pre_GRU) # target在前，pred在后\n",
    "print(mcm_LSTM)\n",
    "\n",
    "# 将3维数组展开为2维数组\n",
    "flat_matrix = np.reshape(mcm_GRU, (mcm_GRU.shape[0], -1))\n",
    "conf_matrix_pct = np.around(flat_matrix / np.sum(flat_matrix, axis=1, keepdims=True) , decimals=2)\n",
    "\n",
    "\n",
    "# 绘制热力图\n",
    "fig, ax = plt.subplots(figsize=(8, 6))\n",
    "sns.heatmap(conf_matrix_pct, annot=True, fmt = '.2%',cmap='Blues')\n",
    "\n",
    "\n",
    "# 设置坐标轴标签\n",
    "# ax.set_xticks([0.5, 1.5, 2, 2,5])\n",
    "# 设置行标签\n",
    "ax.set_yticklabels(['toxicity', 'severe_toxic', 'obsence', 'threat','insult', 'identity_hate'], rotation=0)\n",
    "\n",
    "# 设置列标签\n",
    "ax.set_xticklabels(['True Positive', 'False Positive', 'False Negative', 'True Negative'], fontsize=10)\n",
    "# ax.set_xticklabels(['True Negative', 'True Positive','False Negative','False Positive'])\n",
    "# ax.set_yticklabels(['toxicity', 'severe_toxic', 'threat', 'obsence', 'insult', 'identity_hate'])\n",
    "\n",
    "# 显示图形\n",
    "plt.show()\n"
   ]
  },
  {
   "cell_type": "code",
   "execution_count": 122,
   "id": "84ece582",
   "metadata": {
    "ExecuteTime": {
     "end_time": "2023-04-24T08:49:02.278933Z",
     "start_time": "2023-04-24T08:49:01.999748Z"
    }
   },
   "outputs": [
    {
     "name": "stdout",
     "output_type": "stream",
     "text": [
      "Classification Report for toxicity:\n",
      "              precision    recall  f1-score   support\n",
      "\n",
      "           0       0.94      0.97      0.96     57888\n",
      "           1       0.63      0.43      0.51      6090\n",
      "\n",
      "    accuracy                           0.92     63978\n",
      "   macro avg       0.79      0.70      0.74     63978\n",
      "weighted avg       0.91      0.92      0.92     63978\n",
      "\n",
      "\n",
      "Classification Report for severe_toxic:\n",
      "              precision    recall  f1-score   support\n",
      "\n",
      "           0       0.99      1.00      1.00     63611\n",
      "           1       0.48      0.08      0.13       367\n",
      "\n",
      "    accuracy                           0.99     63978\n",
      "   macro avg       0.74      0.54      0.56     63978\n",
      "weighted avg       0.99      0.99      0.99     63978\n",
      "\n",
      "\n",
      "Classification Report for obsence:\n",
      "              precision    recall  f1-score   support\n",
      "\n",
      "           0       0.97      0.98      0.98     60287\n",
      "           1       0.64      0.53      0.58      3691\n",
      "\n",
      "    accuracy                           0.96     63978\n",
      "   macro avg       0.80      0.75      0.78     63978\n",
      "weighted avg       0.95      0.96      0.95     63978\n",
      "\n",
      "\n",
      "Classification Report for threat:\n",
      "              precision    recall  f1-score   support\n",
      "\n",
      "           0       1.00      1.00      1.00     63767\n",
      "           1       0.00      0.00      0.00       211\n",
      "\n",
      "    accuracy                           1.00     63978\n",
      "   macro avg       0.50      0.50      0.50     63978\n",
      "weighted avg       0.99      1.00      1.00     63978\n",
      "\n",
      "\n",
      "Classification Report for insult:\n",
      "              precision    recall  f1-score   support\n",
      "\n",
      "           0       0.97      0.98      0.97     60551\n",
      "           1       0.58      0.38      0.46      3427\n",
      "\n",
      "    accuracy                           0.95     63978\n",
      "   macro avg       0.77      0.68      0.72     63978\n",
      "weighted avg       0.94      0.95      0.95     63978\n",
      "\n",
      "\n",
      "Classification Report for identity_hate:\n",
      "              precision    recall  f1-score   support\n",
      "\n",
      "           0       0.99      1.00      0.99     63266\n",
      "           1       0.00      0.00      0.00       712\n",
      "\n",
      "    accuracy                           0.99     63978\n",
      "   macro avg       0.49      0.50      0.50     63978\n",
      "weighted avg       0.98      0.99      0.98     63978\n",
      "\n",
      "\n"
     ]
    },
    {
     "name": "stderr",
     "output_type": "stream",
     "text": [
      "/Users/legfot/opt/anaconda3/envs/tf27/lib/python3.8/site-packages/sklearn/metrics/_classification.py:1344: UndefinedMetricWarning: Precision and F-score are ill-defined and being set to 0.0 in labels with no predicted samples. Use `zero_division` parameter to control this behavior.\n",
      "  _warn_prf(average, modifier, msg_start, len(result))\n",
      "/Users/legfot/opt/anaconda3/envs/tf27/lib/python3.8/site-packages/sklearn/metrics/_classification.py:1344: UndefinedMetricWarning: Precision and F-score are ill-defined and being set to 0.0 in labels with no predicted samples. Use `zero_division` parameter to control this behavior.\n",
      "  _warn_prf(average, modifier, msg_start, len(result))\n",
      "/Users/legfot/opt/anaconda3/envs/tf27/lib/python3.8/site-packages/sklearn/metrics/_classification.py:1344: UndefinedMetricWarning: Precision and F-score are ill-defined and being set to 0.0 in labels with no predicted samples. Use `zero_division` parameter to control this behavior.\n",
      "  _warn_prf(average, modifier, msg_start, len(result))\n",
      "/Users/legfot/opt/anaconda3/envs/tf27/lib/python3.8/site-packages/sklearn/metrics/_classification.py:1344: UndefinedMetricWarning: Precision and F-score are ill-defined and being set to 0.0 in labels with no predicted samples. Use `zero_division` parameter to control this behavior.\n",
      "  _warn_prf(average, modifier, msg_start, len(result))\n",
      "/Users/legfot/opt/anaconda3/envs/tf27/lib/python3.8/site-packages/sklearn/metrics/_classification.py:1344: UndefinedMetricWarning: Precision and F-score are ill-defined and being set to 0.0 in labels with no predicted samples. Use `zero_division` parameter to control this behavior.\n",
      "  _warn_prf(average, modifier, msg_start, len(result))\n",
      "/Users/legfot/opt/anaconda3/envs/tf27/lib/python3.8/site-packages/sklearn/metrics/_classification.py:1344: UndefinedMetricWarning: Precision and F-score are ill-defined and being set to 0.0 in labels with no predicted samples. Use `zero_division` parameter to control this behavior.\n",
      "  _warn_prf(average, modifier, msg_start, len(result))\n"
     ]
    }
   ],
   "source": [
    "from sklearn.metrics import classification_report\n",
    "\n",
    "class_names = ['toxicity', 'severe_toxic', 'obsence', 'threat','insult', 'identity_hate']\n",
    "\n",
    "\n",
    "# 按照类别生成分类报告\n",
    "for i in range(len(class_names)):\n",
    "    target_names = ['non-' + class_names[i], class_names[i]]\n",
    "    report = classification_report(test_label_L[:,i], pre_GRU[:,i])\n",
    "    print(f'Classification Report for {class_names[i]}:\\n{report}\\n')\n",
    "\n"
   ]
  }
 ],
 "metadata": {
  "kernelspec": {
   "display_name": "Python 3 (ipykernel)",
   "language": "python",
   "name": "python3"
  },
  "language_info": {
   "codemirror_mode": {
    "name": "ipython",
    "version": 3
   },
   "file_extension": ".py",
   "mimetype": "text/x-python",
   "name": "python",
   "nbconvert_exporter": "python",
   "pygments_lexer": "ipython3",
   "version": "3.8.16"
  },
  "toc": {
   "base_numbering": 1,
   "nav_menu": {},
   "number_sections": true,
   "sideBar": true,
   "skip_h1_title": false,
   "title_cell": "Table of Contents",
   "title_sidebar": "Contents",
   "toc_cell": false,
   "toc_position": {},
   "toc_section_display": true,
   "toc_window_display": false
  }
 },
 "nbformat": 4,
 "nbformat_minor": 5
}
