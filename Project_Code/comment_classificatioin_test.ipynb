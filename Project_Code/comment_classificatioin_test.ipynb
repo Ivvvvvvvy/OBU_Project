{
 "cells": [
  {
   "cell_type": "code",
   "execution_count": 1,
   "id": "004720e1",
   "metadata": {
    "ExecuteTime": {
     "end_time": "2023-01-11T08:12:23.699260Z",
     "start_time": "2023-01-11T08:12:19.729137Z"
    }
   },
   "outputs": [
    {
     "name": "stdout",
     "output_type": "stream",
     "text": [
      "*** Introductory Examples for the NLTK Book ***\n",
      "Loading text1, ..., text9 and sent1, ..., sent9\n",
      "Type the name of the text or sentence to view it.\n",
      "Type: 'texts()' or 'sents()' to list the materials.\n",
      "text1: Moby Dick by Herman Melville 1851\n",
      "text2: Sense and Sensibility by Jane Austen 1811\n",
      "text3: The Book of Genesis\n",
      "text4: Inaugural Address Corpus\n",
      "text5: Chat Corpus\n",
      "text6: Monty Python and the Holy Grail\n",
      "text7: Wall Street Journal\n",
      "text8: Personals Corpus\n",
      "text9: The Man Who Was Thursday by G . K . Chesterton 1908\n"
     ]
    }
   ],
   "source": [
    "import matplotlib.pyplot as plt\n",
    "import seaborn as sns\n",
    "import numpy as np\n",
    "import pandas as pd\n",
    "from collections import Counter\n",
    "#stopwords = set(STOPWORDS)\n",
    "import itertools\n",
    "import nltk\n",
    "# nltk.download()\n",
    "# nltk.download('stopwords')\n",
    "# nltk.download(\"punkt\")\n",
    "# nltk.download('wordnet')\n",
    "from nltk.stem.wordnet import WordNetLemmatizer\n",
    "from nltk.stem.porter import PorterStemmer\n",
    "from nltk.corpus import stopwords \n",
    "from nltk.tokenize import word_tokenize\n",
    "from nltk import ne_chunk\n",
    "from nltk.util import ngrams\n",
    "from nltk.book import *\n",
    "\n",
    "import plotly\n",
    "import plotly.express as px\n",
    "\n",
    "import re\n",
    "import string\n",
    "\n",
    "\n",
    "\n",
    "#read the files\n",
    "train = pd.read_csv(\"/Users/legfot/Documents/content/data/train.csv\", encoding = 'ISO-8859-1')\n",
    "test = pd.read_csv(\"/Users/legfot/Documents/content/data/test.csv\", encoding = 'ISO-8859-1')\n",
    "test_y = pd.read_csv(\"/Users/legfot/Documents/content/data/test_labels.csv\", encoding = 'ISO-8859-1')"
   ]
  },
  {
   "cell_type": "code",
   "execution_count": 2,
   "id": "57e1aa43",
   "metadata": {
    "ExecuteTime": {
     "end_time": "2023-01-11T08:12:44.376651Z",
     "start_time": "2023-01-11T08:12:25.136884Z"
    }
   },
   "outputs": [],
   "source": [
    "\n",
    "stop = stopwords.words('english')\n",
    "\n",
    "train['preprocess'] = train.apply(lambda row: row['comment_text'].replace(\"\\n\",\" \"), axis=1) #removes new line character\n",
    "test['preprocess'] = test.apply(lambda row: row['comment_text'].replace(\"\\n\",\" \"), axis=1)\n",
    "\n",
    "#removes urls\n",
    "train['preprocess']=train.apply(lambda row: re.sub('http://\\S+|https://\\S+', 'urls',row['preprocess']).lower(), axis=1)\n",
    "test['preprocess']=test.apply(lambda row: re.sub('http://\\S+|https://\\S+', 'urls',row['preprocess']).lower(), axis=1)\n",
    "\n",
    "#remove all non-alphanumeric values(Except single quotes)\n",
    "train['preprocess']=train.apply(lambda row: re.sub('[^A-Za-z\\' ]+', '',row['preprocess']).lower(), axis=1)\n",
    "test['preprocess']=test.apply(lambda row: re.sub('[^A-Za-z\\' ]+', '',row['preprocess']).lower(), axis=1)\n",
    "\n",
    "#remove stopwords as they occupy major chunk of the vocabulary\n",
    "train['preprocess'] = train['preprocess'].apply(lambda x: ' '.join([word for word in x.split() if word not in (stop)]))\n",
    "test['preprocess'] = test['preprocess'].apply(lambda x: ' '.join([word for word in x.split() if word not in (stop)]))\n",
    "\n",
    "#removes all additional spaces\n",
    "train['preprocess']=train.apply(lambda row: re.sub('  +', ' ',row['preprocess']).strip(), axis=1)\n",
    "test['preprocess']=test.apply(lambda row: re.sub('  +', ' ',row['preprocess']).strip(), axis=1)"
   ]
  },
  {
   "cell_type": "code",
   "execution_count": 3,
   "id": "63f9932a",
   "metadata": {
    "ExecuteTime": {
     "end_time": "2023-01-11T08:12:49.085234Z",
     "start_time": "2023-01-11T08:12:47.681360Z"
    }
   },
   "outputs": [],
   "source": [
    "train[\"preprocess1\"] = train.apply(lambda x: x[\"comment_text\"] if len(x[\"preprocess\"])==0 else x['preprocess'], axis=1)\n",
    "test[\"preprocess1\"] = test.apply(lambda x: x[\"comment_text\"] if len(x[\"preprocess\"])==0 else x['preprocess'], axis=1)\n",
    "traindf=train[['preprocess1','toxic', 'severe_toxic', 'obscene', 'threat','insult', 'identity_hate']]\n",
    "testdf=test[['id','preprocess1']]"
   ]
  },
  {
   "cell_type": "code",
   "execution_count": 7,
   "id": "24245308",
   "metadata": {
    "ExecuteTime": {
     "end_time": "2023-01-11T08:14:52.165173Z",
     "start_time": "2023-01-11T08:14:52.157328Z"
    }
   },
   "outputs": [],
   "source": [
    "from keras.preprocessing.text import Tokenizer\n",
    "from tensorflow.keras.preprocessing.sequence import pad_sequences\n",
    "from tensorflow.keras.utils import to_categorical\n",
    "from tensorflow.keras.models import Sequential\n",
    "from tensorflow.keras.layers import Dense, LSTM, Embedding, Input\n",
    "from tensorflow.keras.callbacks import ModelCheckpoint\n",
    "# from tensorflow.keras.callbacks import EarlyStopping\n",
    "from tensorflow.keras.callbacks import TensorBoard"
   ]
  },
  {
   "cell_type": "code",
   "execution_count": 5,
   "id": "c08759f6",
   "metadata": {
    "ExecuteTime": {
     "end_time": "2023-01-11T08:13:01.988633Z",
     "start_time": "2023-01-11T08:12:55.470616Z"
    }
   },
   "outputs": [],
   "source": [
    "traind=traindf[\"preprocess1\"]\n",
    "train_label=traindf[['toxic', 'severe_toxic', 'obscene', 'threat','insult', 'identity_hate']]\n",
    "testd=testdf[\"preprocess1\"]\n",
    "\n",
    "#prepare tokenizer\n",
    "tokenizer = Tokenizer(num_words = 30000) #only 30000 words i am considering here\n",
    "tokenizer.fit_on_texts(traind)\n",
    "\n",
    "#convert each text into array of integers with help of tokenizer.\n",
    "train_final = tokenizer.texts_to_sequences(traind)\n",
    "test_final = tokenizer.texts_to_sequences(testd)\n",
    "#Now lets pad the sentences. \n",
    "#From the above histogram it is evident that most of sentences falling in range 1-200 lengths. \n",
    "#max length=200 is kept \n",
    "#We will trim any sentence above that length and we will pad zeros for all the sentence below 200\n",
    "traind=pad_sequences(train_final, maxlen=200)\n",
    "testd=pad_sequences(test_final, maxlen=200)"
   ]
  },
  {
   "cell_type": "code",
   "execution_count": 37,
   "id": "4c850a0a",
   "metadata": {
    "ExecuteTime": {
     "end_time": "2023-01-11T09:58:59.247009Z",
     "start_time": "2023-01-11T09:48:43.399206Z"
    },
    "scrolled": false
   },
   "outputs": [
    {
     "name": "stdout",
     "output_type": "stream",
     "text": [
      "Model: \"sequential_2\"\n",
      "_________________________________________________________________\n",
      " Layer (type)                Output Shape              Param #   \n",
      "=================================================================\n",
      " embedding_2 (Embedding)     (None, 200, 13)           390000    \n",
      "                                                                 \n",
      " lstm_2 (LSTM)               (None, 50)                12800     \n",
      "                                                                 \n",
      " dropout_2 (Dropout)         (None, 50)                0         \n",
      "                                                                 \n",
      " dense_2 (Dense)             (None, 6)                 306       \n",
      "                                                                 \n",
      "=================================================================\n",
      "Total params: 403,106\n",
      "Trainable params: 403,106\n",
      "Non-trainable params: 0\n",
      "_________________________________________________________________\n",
      "None\n",
      "WARNING:tensorflow:`write_grads` will be ignored in TensorFlow 2.0 for the `TensorBoard` Callback.\n",
      "Epoch 1/2\n"
     ]
    },
    {
     "name": "stderr",
     "output_type": "stream",
     "text": [
      "2023-01-11 17:48:45.395050: I tensorflow/core/grappler/optimizers/custom_graph_optimizer_registry.cc:112] Plugin optimizer for device_type GPU is enabled.\n",
      "2023-01-11 17:48:45.927666: I tensorflow/core/grappler/optimizers/custom_graph_optimizer_registry.cc:112] Plugin optimizer for device_type GPU is enabled.\n",
      "2023-01-11 17:48:46.645920: I tensorflow/core/grappler/optimizers/custom_graph_optimizer_registry.cc:112] Plugin optimizer for device_type GPU is enabled.\n"
     ]
    },
    {
     "name": "stdout",
     "output_type": "stream",
     "text": [
      "3990/3990 [==============================] - ETA: 0s - loss: 0.1381 - accuracy: 0.9504"
     ]
    },
    {
     "name": "stderr",
     "output_type": "stream",
     "text": [
      "2023-01-11 17:53:20.085655: I tensorflow/core/grappler/optimizers/custom_graph_optimizer_registry.cc:112] Plugin optimizer for device_type GPU is enabled.\n",
      "2023-01-11 17:53:20.195875: I tensorflow/core/grappler/optimizers/custom_graph_optimizer_registry.cc:112] Plugin optimizer for device_type GPU is enabled.\n"
     ]
    },
    {
     "name": "stdout",
     "output_type": "stream",
     "text": [
      "\n",
      "Epoch 00001: val_loss improved from inf to 0.12407, saving model to model_toxic/cp.ckpt\n",
      "3990/3990 [==============================] - 298s 74ms/step - loss: 0.1381 - accuracy: 0.9504 - val_loss: 0.1241 - val_accuracy: 0.9933\n",
      "Epoch 2/2\n",
      "3990/3990 [==============================] - ETA: 0s - loss: 0.1139 - accuracy: 0.9889\n",
      "Epoch 00002: val_loss improved from 0.12407 to 0.10220, saving model to model_toxic/cp.ckpt\n",
      "3990/3990 [==============================] - 317s 79ms/step - loss: 0.1139 - accuracy: 0.9889 - val_loss: 0.1022 - val_accuracy: 0.9916\n"
     ]
    }
   ],
   "source": [
    "import tensorflow as tf\n",
    "MAX_FEATURES = 30000\n",
    "MAX_SENTENCE_LENGTH = 200\n",
    "\n",
    "\n",
    "def LSTM_model(lstm_units, dropout_rate):\n",
    "    model = Sequential([\n",
    "        tf.keras.layers.InputLayer(input_shape=(MAX_SENTENCE_LENGTH,)),\n",
    "        tf.keras.layers.Embedding(input_dim=MAX_FEATURES, output_dim=int(MAX_FEATURES ** 0.25)),\n",
    "        tf.keras.layers.LSTM(units=lstm_units),\n",
    "        tf.keras.layers.Dropout(dropout_rate),\n",
    "        tf.keras.layers.Dense(6, activation=tf.nn.sigmoid)\n",
    "    ])\n",
    "    model.compile(\n",
    "        loss=tf.keras.losses.binary_crossentropy,\n",
    "        metrics=['accuracy']\n",
    "    )\n",
    "    return model\n",
    "\n",
    "# define some hyper parameters\n",
    "batch_size = 32\n",
    "epochs = 2\n",
    "lstm_units = 50\n",
    "dropout_rate = 0.5\n",
    "\n",
    "# define the model\n",
    "LSTM_model = LSTM_model(lstm_units, dropout_rate)\n",
    "print(model.summary())\n",
    "\n",
    "# define some callbacks\n",
    "checkpoint_cb = ModelCheckpoint(filepath='model_toxic/cp.ckpt',\n",
    "                                save_weights_only=True,\n",
    "                                mode='min',\n",
    "                                verbose=1,\n",
    "                                save_best_only=True)\n",
    "tensorboard_cb = TensorBoard(log_dir='model_toxic',\n",
    "                             histogram_freq=1,\n",
    "                             write_grads=True)\n",
    "\n",
    "# start train and evaluate\n",
    "LSTM_model_history = LSTM_model.fit(\n",
    "                x=traind,\n",
    "                y=train_label,\n",
    "                batch_size=batch_size,\n",
    "                epochs=epochs,\n",
    "                validation_split=0.2,\n",
    "                callbacks=[checkpoint_cb, tensorboard_cb],\n",
    "            )"
   ]
  },
  {
   "cell_type": "code",
   "execution_count": 38,
   "id": "eb172f0c",
   "metadata": {
    "ExecuteTime": {
     "end_time": "2023-01-11T09:59:58.991659Z",
     "start_time": "2023-01-11T09:59:58.520112Z"
    }
   },
   "outputs": [
    {
     "ename": "NameError",
     "evalue": "name 'vloss' is not defined",
     "output_type": "error",
     "traceback": [
      "\u001b[0;31m---------------------------------------------------------------------------\u001b[0m",
      "\u001b[0;31mNameError\u001b[0m                                 Traceback (most recent call last)",
      "Cell \u001b[0;32mIn[38], line 8\u001b[0m\n\u001b[1;32m      6\u001b[0m plt\u001b[38;5;241m.\u001b[39mfigure()\n\u001b[1;32m      7\u001b[0m plt\u001b[38;5;241m.\u001b[39mplot(loss, marker\u001b[38;5;241m=\u001b[39m\u001b[38;5;124m'\u001b[39m\u001b[38;5;124m.\u001b[39m\u001b[38;5;124m'\u001b[39m, lw\u001b[38;5;241m=\u001b[39m\u001b[38;5;241m2.0\u001b[39m, c\u001b[38;5;241m=\u001b[39m\u001b[38;5;124m'\u001b[39m\u001b[38;5;124mblue\u001b[39m\u001b[38;5;124m'\u001b[39m, label\u001b[38;5;241m=\u001b[39m\u001b[38;5;124m'\u001b[39m\u001b[38;5;124mtrain\u001b[39m\u001b[38;5;124m'\u001b[39m)\n\u001b[0;32m----> 8\u001b[0m plt\u001b[38;5;241m.\u001b[39mplot(\u001b[43mvloss\u001b[49m, marker\u001b[38;5;241m=\u001b[39m\u001b[38;5;124m'\u001b[39m\u001b[38;5;124m.\u001b[39m\u001b[38;5;124m'\u001b[39m, lw\u001b[38;5;241m=\u001b[39m\u001b[38;5;241m2.0\u001b[39m, c\u001b[38;5;241m=\u001b[39m\u001b[38;5;124m'\u001b[39m\u001b[38;5;124mred\u001b[39m\u001b[38;5;124m'\u001b[39m, label\u001b[38;5;241m=\u001b[39m\u001b[38;5;124m'\u001b[39m\u001b[38;5;124mval\u001b[39m\u001b[38;5;124m'\u001b[39m)\n\u001b[1;32m     10\u001b[0m plt\u001b[38;5;241m.\u001b[39mlegend()\n\u001b[1;32m     11\u001b[0m plt\u001b[38;5;241m.\u001b[39mxlabel(\u001b[38;5;124m'\u001b[39m\u001b[38;5;124mEpochs\u001b[39m\u001b[38;5;124m'\u001b[39m)\n",
      "\u001b[0;31mNameError\u001b[0m: name 'vloss' is not defined"
     ]
    },
    {
     "data": {
      "image/png": "[encoded data removed]",
      "text/plain": [
       "<Figure size 640x480 with 1 Axes>"
      ]
     },
     "metadata": {},
     "output_type": "display_data"
    }
   ],
   "source": [
    "loss = LSTM_model_history.history['loss']\n",
    "\n",
    "#x_len = np.arange(len(loss))\n",
    "#plt.plot(x_len, vloss, marker='.', lw=2.0, c='red', label='val')\n",
    "#plt.plot(x_len, loss, marker='.', lw=2.0, c='blue', label='train')\n",
    "plt.figure()\n",
    "plt.plot(loss, marker='.', lw=2.0, c='blue', label='train')\n",
    "plt.legend()\n",
    "plt.xlabel('Epochs')\n",
    "plt.ylabel('Cross-Entropy Loss')\n",
    "plt.grid()\n",
    "plt.show()"
   ]
  },
  {
   "cell_type": "code",
   "execution_count": 54,
   "id": "58584b21",
   "metadata": {
    "ExecuteTime": {
     "end_time": "2023-01-11T10:57:25.012384Z",
     "start_time": "2023-01-11T10:57:24.937243Z"
    }
   },
   "outputs": [
    {
     "ename": "NameError",
     "evalue": "name 'LSTM_model_history' is not defined",
     "output_type": "error",
     "traceback": [
      "\u001b[0;31m---------------------------------------------------------------------------\u001b[0m",
      "\u001b[0;31mNameError\u001b[0m                                 Traceback (most recent call last)",
      "Cell \u001b[0;32mIn[54], line 2\u001b[0m\n\u001b[1;32m      1\u001b[0m plt\u001b[38;5;241m.\u001b[39mfigure()\n\u001b[0;32m----> 2\u001b[0m plt\u001b[38;5;241m.\u001b[39mplot(\u001b[43mLSTM_model_history\u001b[49m\u001b[38;5;241m.\u001b[39mhistory[\u001b[38;5;124m'\u001b[39m\u001b[38;5;124maccuracy\u001b[39m\u001b[38;5;124m'\u001b[39m], marker\u001b[38;5;241m=\u001b[39m\u001b[38;5;124m'\u001b[39m\u001b[38;5;124m.\u001b[39m\u001b[38;5;124m'\u001b[39m, c\u001b[38;5;241m=\u001b[39m\u001b[38;5;124m'\u001b[39m\u001b[38;5;124mred\u001b[39m\u001b[38;5;124m'\u001b[39m, label\u001b[38;5;241m=\u001b[39m\u001b[38;5;124m'\u001b[39m\u001b[38;5;124mval\u001b[39m\u001b[38;5;124m'\u001b[39m)\n\u001b[1;32m      3\u001b[0m plt\u001b[38;5;241m.\u001b[39mlegend()\n\u001b[1;32m      4\u001b[0m plt\u001b[38;5;241m.\u001b[39mxlabel(\u001b[38;5;124m'\u001b[39m\u001b[38;5;124mepochs\u001b[39m\u001b[38;5;124m'\u001b[39m)\n",
      "\u001b[0;31mNameError\u001b[0m: name 'LSTM_model_history' is not defined"
     ]
    },
    {
     "data": {
      "text/plain": [
       "<Figure size 640x480 with 0 Axes>"
      ]
     },
     "metadata": {},
     "output_type": "display_data"
    }
   ],
   "source": [
    "plt.figure()\n",
    "plt.plot(LSTM_model_history.history['accuracy'], marker='.', c='red', label='val')\n",
    "plt.legend()\n",
    "plt.xlabel('epochs')\n",
    "plt.ylabel('accuracy')\n",
    "plt.grid()\n",
    "plt.show()"
   ]
  },
  {
   "cell_type": "code",
   "execution_count": 44,
   "id": "d2836101",
   "metadata": {
    "ExecuteTime": {
     "end_time": "2023-01-11T10:03:47.594371Z",
     "start_time": "2023-01-11T10:02:04.488465Z"
    }
   },
   "outputs": [
    {
     "name": "stderr",
     "output_type": "stream",
     "text": [
      "2023-01-11 18:02:05.120905: I tensorflow/core/grappler/optimizers/custom_graph_optimizer_registry.cc:112] Plugin optimizer for device_type GPU is enabled.\n",
      "2023-01-11 18:02:05.259222: I tensorflow/core/grappler/optimizers/custom_graph_optimizer_registry.cc:112] Plugin optimizer for device_type GPU is enabled.\n"
     ]
    }
   ],
   "source": [
    "LSTM_result = testdf[['id']]\n",
    "LSTM_preds = LSTM_model.predict(testd)\n",
    "LSTM_result[[\"toxic\",\"severe_toxic\",\"obscene\",\"threat\",\"insult\",\"identity_hate\"]] = LSTM_preds\n",
    "LSTM_result.to_csv(\"result_LSTM.csv\", index = False)"
   ]
  },
  {
   "cell_type": "code",
   "execution_count": 50,
   "id": "4f6e3d84",
   "metadata": {
    "ExecuteTime": {
     "end_time": "2023-01-11T10:46:05.042242Z",
     "start_time": "2023-01-11T10:35:59.528113Z"
    },
    "scrolled": true
   },
   "outputs": [
    {
     "name": "stdout",
     "output_type": "stream",
     "text": [
      "Model: \"sequential_8\"\n",
      "_________________________________________________________________\n",
      " Layer (type)                Output Shape              Param #   \n",
      "=================================================================\n",
      " embedding_8 (Embedding)     (None, 200, 13)           390000    \n",
      "                                                                 \n",
      " gru_5 (GRU)                 (None, 50)                9750      \n",
      "                                                                 \n",
      " dropout_8 (Dropout)         (None, 50)                0         \n",
      "                                                                 \n",
      " dense_8 (Dense)             (None, 6)                 306       \n",
      "                                                                 \n",
      "=================================================================\n",
      "Total params: 400,056\n",
      "Trainable params: 400,056\n",
      "Non-trainable params: 0\n",
      "_________________________________________________________________\n",
      "None\n",
      "WARNING:tensorflow:`write_grads` will be ignored in TensorFlow 2.0 for the `TensorBoard` Callback.\n",
      "Epoch 1/2\n"
     ]
    },
    {
     "name": "stderr",
     "output_type": "stream",
     "text": [
      "2023-01-11 18:36:00.640222: I tensorflow/core/grappler/optimizers/custom_graph_optimizer_registry.cc:112] Plugin optimizer for device_type GPU is enabled.\n",
      "2023-01-11 18:36:00.995253: I tensorflow/core/grappler/optimizers/custom_graph_optimizer_registry.cc:112] Plugin optimizer for device_type GPU is enabled.\n",
      "2023-01-11 18:36:01.667049: I tensorflow/core/grappler/optimizers/custom_graph_optimizer_registry.cc:112] Plugin optimizer for device_type GPU is enabled.\n"
     ]
    },
    {
     "name": "stdout",
     "output_type": "stream",
     "text": [
      "3990/3990 [==============================] - ETA: 0s - loss: 0.1031 - accuracy: 0.9397"
     ]
    },
    {
     "name": "stderr",
     "output_type": "stream",
     "text": [
      "2023-01-11 18:40:38.761192: I tensorflow/core/grappler/optimizers/custom_graph_optimizer_registry.cc:112] Plugin optimizer for device_type GPU is enabled.\n",
      "2023-01-11 18:40:38.929872: I tensorflow/core/grappler/optimizers/custom_graph_optimizer_registry.cc:112] Plugin optimizer for device_type GPU is enabled.\n"
     ]
    },
    {
     "name": "stdout",
     "output_type": "stream",
     "text": [
      "\n",
      "Epoch 00001: val_loss improved from inf to 0.07801, saving model to model_toxic/cp.ckpt\n",
      "3990/3990 [==============================] - 306s 76ms/step - loss: 0.1031 - accuracy: 0.9397 - val_loss: 0.0780 - val_accuracy: 0.9681\n",
      "Epoch 2/2\n",
      "3990/3990 [==============================] - ETA: 0s - loss: 0.0809 - accuracy: 0.9492\n",
      "Epoch 00002: val_loss did not improve from 0.07801\n",
      "3990/3990 [==============================] - 299s 75ms/step - loss: 0.0809 - accuracy: 0.9492 - val_loss: 0.0808 - val_accuracy: 0.9773\n"
     ]
    }
   ],
   "source": [
    "import tensorflow as tf\n",
    "import tensorflow.keras as keras\n",
    "def GRU_model(lstm_units, dropout_rate):\n",
    "    GRU_model = Sequential([\n",
    "        keras.layers.InputLayer(input_shape=(MAX_SENTENCE_LENGTH,)),\n",
    "        keras.layers.Embedding(input_dim=MAX_FEATURES, output_dim=int(MAX_FEATURES ** 0.25)),\n",
    "        keras.layers.GRU(units=lstm_units),\n",
    "        keras.layers.Dropout(dropout_rate),\n",
    "        keras.layers.Dense(6, activation=tf.nn.sigmoid)\n",
    "    ])\n",
    "    GRU_model.compile(\n",
    "        loss=tf.keras.losses.binary_crossentropy,\n",
    "        metrics=['accuracy']\n",
    "    )\n",
    "    return GRU_model\n",
    "\n",
    "# define some hyper parameters\n",
    "batch_size = 32\n",
    "epochs = 2\n",
    "lstm_units = 50\n",
    "dropout_rate = 0.5\n",
    "\n",
    "# define the model\n",
    "GRU_model = GRU_model(lstm_units, dropout_rate)\n",
    "print(GRU_model.summary())\n",
    "\n",
    "# define some callbacks\n",
    "checkpoint_cb = ModelCheckpoint(filepath='model_toxic/cp.ckpt',\n",
    "                                save_weights_only=True,\n",
    "                                mode='min',\n",
    "                                verbose=1,\n",
    "                                save_best_only=True)\n",
    "tensorboard_cb = TensorBoard(log_dir='model_toxic',\n",
    "                             histogram_freq=1,\n",
    "                             write_grads=True)\n",
    "\n",
    "# start train and evaluate\n",
    "GRU_model_history = GRU_model.fit(\n",
    "                x=traind,\n",
    "                y=train_label,\n",
    "                batch_size=batch_size,\n",
    "                epochs=epochs,\n",
    "                validation_split=0.2,\n",
    "                callbacks=[checkpoint_cb, tensorboard_cb],\n",
    "            )"
   ]
  },
  {
   "cell_type": "code",
   "execution_count": 51,
   "id": "9f47b504",
   "metadata": {
    "ExecuteTime": {
     "end_time": "2023-01-11T10:55:50.290195Z",
     "start_time": "2023-01-11T10:55:49.964647Z"
    }
   },
   "outputs": [
    {
     "data": {
      "image/png": "[encoded data removed]",
      "text/plain": [
       "<Figure size 640x480 with 1 Axes>"
      ]
     },
     "metadata": {},
     "output_type": "display_data"
    }
   ],
   "source": [
    "Gloss = GRU_model_history.history['loss']\n",
    "\n",
    "#x_len = np.arange(len(loss))\n",
    "#plt.plot(x_len, vloss, marker='.', lw=2.0, c='red', label='val')\n",
    "#plt.plot(x_len, loss, marker='.', lw=2.0, c='blue', label='train')\n",
    "plt.figure()\n",
    "plt.plot(Gloss, marker='.', lw=2.0, c='blue', label='train')\n",
    "plt.legend()\n",
    "plt.xlabel('Epochs')\n",
    "plt.ylabel('Cross-Entropy Loss')\n",
    "plt.grid()\n",
    "plt.show()"
   ]
  },
  {
   "cell_type": "code",
   "execution_count": 53,
   "id": "7349c824",
   "metadata": {
    "ExecuteTime": {
     "end_time": "2023-01-11T10:56:44.750560Z",
     "start_time": "2023-01-11T10:56:44.612508Z"
    }
   },
   "outputs": [
    {
     "data": {
      "image/png": "[encoded data removed]",
      "text/plain": [
       "<Figure size 640x480 with 1 Axes>"
      ]
     },
     "metadata": {},
     "output_type": "display_data"
    }
   ],
   "source": [
    "plt.figure()\n",
    "plt.plot(GRU_model_history.history['accuracy'], marker='.', c='red', label='val')\n",
    "plt.legend()\n",
    "plt.xlabel('epochs')\n",
    "plt.ylabel('Accuracy')\n",
    "plt.grid()\n",
    "plt.show()"
   ]
  },
  {
   "cell_type": "code",
   "execution_count": 55,
   "id": "323d8c97",
   "metadata": {
    "ExecuteTime": {
     "end_time": "2023-01-11T10:59:38.607631Z",
     "start_time": "2023-01-11T10:57:42.302309Z"
    }
   },
   "outputs": [
    {
     "name": "stderr",
     "output_type": "stream",
     "text": [
      "2023-01-11 18:57:43.049334: I tensorflow/core/grappler/optimizers/custom_graph_optimizer_registry.cc:112] Plugin optimizer for device_type GPU is enabled.\n",
      "2023-01-11 18:57:43.225259: I tensorflow/core/grappler/optimizers/custom_graph_optimizer_registry.cc:112] Plugin optimizer for device_type GPU is enabled.\n"
     ]
    }
   ],
   "source": [
    "GRU_result = testdf[['id']]\n",
    "GRU_preds = GRU_model.predict(testd)\n",
    "GRU_result[[\"toxic\",\"severe_toxic\",\"obscene\",\"threat\",\"insult\",\"identity_hate\"]] = GRU_preds\n",
    "GRU_result.to_csv(\"result_GRU.csv\", index = False)"
   ]
  },
  {
   "cell_type": "code",
   "execution_count": 57,
   "id": "0b5f2ad8",
   "metadata": {
    "ExecuteTime": {
     "end_time": "2023-01-11T11:01:01.369280Z",
     "start_time": "2023-01-11T11:01:01.319690Z"
    }
   },
   "outputs": [
    {
     "data": {
      "text/html": [
       "<div>\n",
       "<style scoped>\n",
       "    .dataframe tbody tr th:only-of-type {\n",
       "        vertical-align: middle;\n",
       "    }\n",
       "\n",
       "    .dataframe tbody tr th {\n",
       "        vertical-align: top;\n",
       "    }\n",
       "\n",
       "    .dataframe thead th {\n",
       "        text-align: right;\n",
       "    }\n",
       "</style>\n",
       "<table border=\"1\" class=\"dataframe\">\n",
       "  <thead>\n",
       "    <tr style=\"text-align: right;\">\n",
       "      <th></th>\n",
       "      <th>id</th>\n",
       "      <th>toxic</th>\n",
       "      <th>severe_toxic</th>\n",
       "      <th>obscene</th>\n",
       "      <th>threat</th>\n",
       "      <th>insult</th>\n",
       "      <th>identity_hate</th>\n",
       "    </tr>\n",
       "  </thead>\n",
       "  <tbody>\n",
       "    <tr>\n",
       "      <th>0</th>\n",
       "      <td>00001cee341fdb12</td>\n",
       "      <td>0.010622</td>\n",
       "      <td>0.000032</td>\n",
       "      <td>0.002704</td>\n",
       "      <td>4.686829e-06</td>\n",
       "      <td>0.002007</td>\n",
       "      <td>0.000069</td>\n",
       "    </tr>\n",
       "    <tr>\n",
       "      <th>1</th>\n",
       "      <td>0000247867823ef7</td>\n",
       "      <td>0.056379</td>\n",
       "      <td>0.000982</td>\n",
       "      <td>0.020023</td>\n",
       "      <td>2.931993e-04</td>\n",
       "      <td>0.019213</td>\n",
       "      <td>0.001890</td>\n",
       "    </tr>\n",
       "    <tr>\n",
       "      <th>2</th>\n",
       "      <td>00013b17ad220c46</td>\n",
       "      <td>0.049274</td>\n",
       "      <td>0.003632</td>\n",
       "      <td>0.033501</td>\n",
       "      <td>7.919517e-04</td>\n",
       "      <td>0.025712</td>\n",
       "      <td>0.003386</td>\n",
       "    </tr>\n",
       "    <tr>\n",
       "      <th>3</th>\n",
       "      <td>00017563c3f7919a</td>\n",
       "      <td>0.003306</td>\n",
       "      <td>0.000003</td>\n",
       "      <td>0.000594</td>\n",
       "      <td>3.038785e-07</td>\n",
       "      <td>0.000456</td>\n",
       "      <td>0.000008</td>\n",
       "    </tr>\n",
       "    <tr>\n",
       "      <th>4</th>\n",
       "      <td>00017695ad8997eb</td>\n",
       "      <td>0.040610</td>\n",
       "      <td>0.000371</td>\n",
       "      <td>0.014727</td>\n",
       "      <td>5.493087e-05</td>\n",
       "      <td>0.011600</td>\n",
       "      <td>0.000493</td>\n",
       "    </tr>\n",
       "    <tr>\n",
       "      <th>...</th>\n",
       "      <td>...</td>\n",
       "      <td>...</td>\n",
       "      <td>...</td>\n",
       "      <td>...</td>\n",
       "      <td>...</td>\n",
       "      <td>...</td>\n",
       "      <td>...</td>\n",
       "    </tr>\n",
       "    <tr>\n",
       "      <th>153159</th>\n",
       "      <td>fffcd0960ee309b5</td>\n",
       "      <td>0.191648</td>\n",
       "      <td>0.009699</td>\n",
       "      <td>0.104382</td>\n",
       "      <td>2.439720e-03</td>\n",
       "      <td>0.094987</td>\n",
       "      <td>0.011140</td>\n",
       "    </tr>\n",
       "    <tr>\n",
       "      <th>153160</th>\n",
       "      <td>fffd7a9a6eb32c16</td>\n",
       "      <td>0.035808</td>\n",
       "      <td>0.000496</td>\n",
       "      <td>0.011523</td>\n",
       "      <td>1.699445e-04</td>\n",
       "      <td>0.010624</td>\n",
       "      <td>0.001185</td>\n",
       "    </tr>\n",
       "    <tr>\n",
       "      <th>153161</th>\n",
       "      <td>fffda9e8d6fafa9e</td>\n",
       "      <td>0.020560</td>\n",
       "      <td>0.000182</td>\n",
       "      <td>0.005705</td>\n",
       "      <td>6.214662e-05</td>\n",
       "      <td>0.005346</td>\n",
       "      <td>0.000517</td>\n",
       "    </tr>\n",
       "    <tr>\n",
       "      <th>153162</th>\n",
       "      <td>fffe8f1340a79fc2</td>\n",
       "      <td>0.035868</td>\n",
       "      <td>0.000528</td>\n",
       "      <td>0.011663</td>\n",
       "      <td>1.924248e-04</td>\n",
       "      <td>0.010924</td>\n",
       "      <td>0.001328</td>\n",
       "    </tr>\n",
       "    <tr>\n",
       "      <th>153163</th>\n",
       "      <td>ffffce3fb183ee80</td>\n",
       "      <td>0.264404</td>\n",
       "      <td>0.016192</td>\n",
       "      <td>0.147551</td>\n",
       "      <td>4.138482e-03</td>\n",
       "      <td>0.145079</td>\n",
       "      <td>0.017195</td>\n",
       "    </tr>\n",
       "  </tbody>\n",
       "</table>\n",
       "<p>153164 rows × 7 columns</p>\n",
       "</div>"
      ],
      "text/plain": [
       "                      id     toxic  ...    insult  identity_hate\n",
       "0       00001cee341fdb12  0.010622  ...  0.002007       0.000069\n",
       "1       0000247867823ef7  0.056379  ...  0.019213       0.001890\n",
       "2       00013b17ad220c46  0.049274  ...  0.025712       0.003386\n",
       "3       00017563c3f7919a  0.003306  ...  0.000456       0.000008\n",
       "4       00017695ad8997eb  0.040610  ...  0.011600       0.000493\n",
       "...                  ...       ...  ...       ...            ...\n",
       "153159  fffcd0960ee309b5  0.191648  ...  0.094987       0.011140\n",
       "153160  fffd7a9a6eb32c16  0.035808  ...  0.010624       0.001185\n",
       "153161  fffda9e8d6fafa9e  0.020560  ...  0.005346       0.000517\n",
       "153162  fffe8f1340a79fc2  0.035868  ...  0.010924       0.001328\n",
       "153163  ffffce3fb183ee80  0.264404  ...  0.145079       0.017195\n",
       "\n",
       "[153164 rows x 7 columns]"
      ]
     },
     "execution_count": 57,
     "metadata": {},
     "output_type": "execute_result"
    }
   ],
   "source": [
    "LSTM_result"
   ]
  },
  {
   "cell_type": "code",
   "execution_count": null,
   "id": "c1f3c92f",
   "metadata": {},
   "outputs": [],
   "source": []
  }
 ],
 "metadata": {
  "kernelspec": {
   "display_name": "Python 3 (ipykernel)",
   "language": "python",
   "name": "python3"
  },
  "language_info": {
   "codemirror_mode": {
    "name": "ipython",
    "version": 3
   },
   "file_extension": ".py",
   "mimetype": "text/x-python",
   "name": "python",
   "nbconvert_exporter": "python",
   "pygments_lexer": "ipython3",
   "version": "3.8.15"
  },
  "toc": {
   "base_numbering": 1,
   "nav_menu": {},
   "number_sections": true,
   "sideBar": true,
   "skip_h1_title": false,
   "title_cell": "Table of Contents",
   "title_sidebar": "Contents",
   "toc_cell": false,
   "toc_position": {},
   "toc_section_display": true,
   "toc_window_display": false
  }
 },
 "nbformat": 4,
 "nbformat_minor": 5
}
